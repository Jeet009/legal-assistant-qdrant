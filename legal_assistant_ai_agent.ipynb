{
  "nbformat": 4,
  "nbformat_minor": 0,
  "metadata": {
    "colab": {
      "provenance": [],
      "authorship_tag": "ABX9TyPa4U6d8fhEReIeljBbQO3V",
      "include_colab_link": true
    },
    "kernelspec": {
      "name": "python3",
      "display_name": "Python 3"
    },
    "language_info": {
      "name": "python"
    },
    "widgets": {
      "application/vnd.jupyter.widget-state+json": {
        "dece47ac4205470ba1aec5a2991cd90a": {
          "model_module": "@jupyter-widgets/controls",
          "model_name": "HBoxModel",
          "model_module_version": "1.5.0",
          "state": {
            "_dom_classes": [],
            "_model_module": "@jupyter-widgets/controls",
            "_model_module_version": "1.5.0",
            "_model_name": "HBoxModel",
            "_view_count": null,
            "_view_module": "@jupyter-widgets/controls",
            "_view_module_version": "1.5.0",
            "_view_name": "HBoxView",
            "box_style": "",
            "children": [
              "IPY_MODEL_1f24e0d95c3c4b808a50b0600e1e2ada",
              "IPY_MODEL_38bb493bc0714d4981754960908fbc1f",
              "IPY_MODEL_d434dfe1fc824398b4a6547a42acb942"
            ],
            "layout": "IPY_MODEL_cbc9c8fbf92f49dfbfef7e7296e27e4a"
          }
        },
        "1f24e0d95c3c4b808a50b0600e1e2ada": {
          "model_module": "@jupyter-widgets/controls",
          "model_name": "HTMLModel",
          "model_module_version": "1.5.0",
          "state": {
            "_dom_classes": [],
            "_model_module": "@jupyter-widgets/controls",
            "_model_module_version": "1.5.0",
            "_model_name": "HTMLModel",
            "_view_count": null,
            "_view_module": "@jupyter-widgets/controls",
            "_view_module_version": "1.5.0",
            "_view_name": "HTMLView",
            "description": "",
            "description_tooltip": null,
            "layout": "IPY_MODEL_6b0e55cd00ea4de2ba7e1ff4825ea194",
            "placeholder": "​",
            "style": "IPY_MODEL_1f461c7d91d74f9dbee548fd096b0981",
            "value": "tokenizer_config.json: 100%"
          }
        },
        "38bb493bc0714d4981754960908fbc1f": {
          "model_module": "@jupyter-widgets/controls",
          "model_name": "FloatProgressModel",
          "model_module_version": "1.5.0",
          "state": {
            "_dom_classes": [],
            "_model_module": "@jupyter-widgets/controls",
            "_model_module_version": "1.5.0",
            "_model_name": "FloatProgressModel",
            "_view_count": null,
            "_view_module": "@jupyter-widgets/controls",
            "_view_module_version": "1.5.0",
            "_view_name": "ProgressView",
            "bar_style": "success",
            "description": "",
            "description_tooltip": null,
            "layout": "IPY_MODEL_86244b710d8042438fdd0cd7bb447dd0",
            "max": 516,
            "min": 0,
            "orientation": "horizontal",
            "style": "IPY_MODEL_98e16b987d86433ca667597d7796d5c7",
            "value": 516
          }
        },
        "d434dfe1fc824398b4a6547a42acb942": {
          "model_module": "@jupyter-widgets/controls",
          "model_name": "HTMLModel",
          "model_module_version": "1.5.0",
          "state": {
            "_dom_classes": [],
            "_model_module": "@jupyter-widgets/controls",
            "_model_module_version": "1.5.0",
            "_model_name": "HTMLModel",
            "_view_count": null,
            "_view_module": "@jupyter-widgets/controls",
            "_view_module_version": "1.5.0",
            "_view_name": "HTMLView",
            "description": "",
            "description_tooltip": null,
            "layout": "IPY_MODEL_3f87d63e78e84bb9ab6c381cd2f88ae0",
            "placeholder": "​",
            "style": "IPY_MODEL_d6083fef31ed4c499ec0d1c1498e74fd",
            "value": " 516/516 [00:00&lt;00:00, 8.56kB/s]"
          }
        },
        "cbc9c8fbf92f49dfbfef7e7296e27e4a": {
          "model_module": "@jupyter-widgets/base",
          "model_name": "LayoutModel",
          "model_module_version": "1.2.0",
          "state": {
            "_model_module": "@jupyter-widgets/base",
            "_model_module_version": "1.2.0",
            "_model_name": "LayoutModel",
            "_view_count": null,
            "_view_module": "@jupyter-widgets/base",
            "_view_module_version": "1.2.0",
            "_view_name": "LayoutView",
            "align_content": null,
            "align_items": null,
            "align_self": null,
            "border": null,
            "bottom": null,
            "display": null,
            "flex": null,
            "flex_flow": null,
            "grid_area": null,
            "grid_auto_columns": null,
            "grid_auto_flow": null,
            "grid_auto_rows": null,
            "grid_column": null,
            "grid_gap": null,
            "grid_row": null,
            "grid_template_areas": null,
            "grid_template_columns": null,
            "grid_template_rows": null,
            "height": null,
            "justify_content": null,
            "justify_items": null,
            "left": null,
            "margin": null,
            "max_height": null,
            "max_width": null,
            "min_height": null,
            "min_width": null,
            "object_fit": null,
            "object_position": null,
            "order": null,
            "overflow": null,
            "overflow_x": null,
            "overflow_y": null,
            "padding": null,
            "right": null,
            "top": null,
            "visibility": null,
            "width": null
          }
        },
        "6b0e55cd00ea4de2ba7e1ff4825ea194": {
          "model_module": "@jupyter-widgets/base",
          "model_name": "LayoutModel",
          "model_module_version": "1.2.0",
          "state": {
            "_model_module": "@jupyter-widgets/base",
            "_model_module_version": "1.2.0",
            "_model_name": "LayoutModel",
            "_view_count": null,
            "_view_module": "@jupyter-widgets/base",
            "_view_module_version": "1.2.0",
            "_view_name": "LayoutView",
            "align_content": null,
            "align_items": null,
            "align_self": null,
            "border": null,
            "bottom": null,
            "display": null,
            "flex": null,
            "flex_flow": null,
            "grid_area": null,
            "grid_auto_columns": null,
            "grid_auto_flow": null,
            "grid_auto_rows": null,
            "grid_column": null,
            "grid_gap": null,
            "grid_row": null,
            "grid_template_areas": null,
            "grid_template_columns": null,
            "grid_template_rows": null,
            "height": null,
            "justify_content": null,
            "justify_items": null,
            "left": null,
            "margin": null,
            "max_height": null,
            "max_width": null,
            "min_height": null,
            "min_width": null,
            "object_fit": null,
            "object_position": null,
            "order": null,
            "overflow": null,
            "overflow_x": null,
            "overflow_y": null,
            "padding": null,
            "right": null,
            "top": null,
            "visibility": null,
            "width": null
          }
        },
        "1f461c7d91d74f9dbee548fd096b0981": {
          "model_module": "@jupyter-widgets/controls",
          "model_name": "DescriptionStyleModel",
          "model_module_version": "1.5.0",
          "state": {
            "_model_module": "@jupyter-widgets/controls",
            "_model_module_version": "1.5.0",
            "_model_name": "DescriptionStyleModel",
            "_view_count": null,
            "_view_module": "@jupyter-widgets/base",
            "_view_module_version": "1.2.0",
            "_view_name": "StyleView",
            "description_width": ""
          }
        },
        "86244b710d8042438fdd0cd7bb447dd0": {
          "model_module": "@jupyter-widgets/base",
          "model_name": "LayoutModel",
          "model_module_version": "1.2.0",
          "state": {
            "_model_module": "@jupyter-widgets/base",
            "_model_module_version": "1.2.0",
            "_model_name": "LayoutModel",
            "_view_count": null,
            "_view_module": "@jupyter-widgets/base",
            "_view_module_version": "1.2.0",
            "_view_name": "LayoutView",
            "align_content": null,
            "align_items": null,
            "align_self": null,
            "border": null,
            "bottom": null,
            "display": null,
            "flex": null,
            "flex_flow": null,
            "grid_area": null,
            "grid_auto_columns": null,
            "grid_auto_flow": null,
            "grid_auto_rows": null,
            "grid_column": null,
            "grid_gap": null,
            "grid_row": null,
            "grid_template_areas": null,
            "grid_template_columns": null,
            "grid_template_rows": null,
            "height": null,
            "justify_content": null,
            "justify_items": null,
            "left": null,
            "margin": null,
            "max_height": null,
            "max_width": null,
            "min_height": null,
            "min_width": null,
            "object_fit": null,
            "object_position": null,
            "order": null,
            "overflow": null,
            "overflow_x": null,
            "overflow_y": null,
            "padding": null,
            "right": null,
            "top": null,
            "visibility": null,
            "width": null
          }
        },
        "98e16b987d86433ca667597d7796d5c7": {
          "model_module": "@jupyter-widgets/controls",
          "model_name": "ProgressStyleModel",
          "model_module_version": "1.5.0",
          "state": {
            "_model_module": "@jupyter-widgets/controls",
            "_model_module_version": "1.5.0",
            "_model_name": "ProgressStyleModel",
            "_view_count": null,
            "_view_module": "@jupyter-widgets/base",
            "_view_module_version": "1.2.0",
            "_view_name": "StyleView",
            "bar_color": null,
            "description_width": ""
          }
        },
        "3f87d63e78e84bb9ab6c381cd2f88ae0": {
          "model_module": "@jupyter-widgets/base",
          "model_name": "LayoutModel",
          "model_module_version": "1.2.0",
          "state": {
            "_model_module": "@jupyter-widgets/base",
            "_model_module_version": "1.2.0",
            "_model_name": "LayoutModel",
            "_view_count": null,
            "_view_module": "@jupyter-widgets/base",
            "_view_module_version": "1.2.0",
            "_view_name": "LayoutView",
            "align_content": null,
            "align_items": null,
            "align_self": null,
            "border": null,
            "bottom": null,
            "display": null,
            "flex": null,
            "flex_flow": null,
            "grid_area": null,
            "grid_auto_columns": null,
            "grid_auto_flow": null,
            "grid_auto_rows": null,
            "grid_column": null,
            "grid_gap": null,
            "grid_row": null,
            "grid_template_areas": null,
            "grid_template_columns": null,
            "grid_template_rows": null,
            "height": null,
            "justify_content": null,
            "justify_items": null,
            "left": null,
            "margin": null,
            "max_height": null,
            "max_width": null,
            "min_height": null,
            "min_width": null,
            "object_fit": null,
            "object_position": null,
            "order": null,
            "overflow": null,
            "overflow_x": null,
            "overflow_y": null,
            "padding": null,
            "right": null,
            "top": null,
            "visibility": null,
            "width": null
          }
        },
        "d6083fef31ed4c499ec0d1c1498e74fd": {
          "model_module": "@jupyter-widgets/controls",
          "model_name": "DescriptionStyleModel",
          "model_module_version": "1.5.0",
          "state": {
            "_model_module": "@jupyter-widgets/controls",
            "_model_module_version": "1.5.0",
            "_model_name": "DescriptionStyleModel",
            "_view_count": null,
            "_view_module": "@jupyter-widgets/base",
            "_view_module_version": "1.2.0",
            "_view_name": "StyleView",
            "description_width": ""
          }
        },
        "6237bf9f5a0942e4bfd7ef7e00c39150": {
          "model_module": "@jupyter-widgets/controls",
          "model_name": "HBoxModel",
          "model_module_version": "1.5.0",
          "state": {
            "_dom_classes": [],
            "_model_module": "@jupyter-widgets/controls",
            "_model_module_version": "1.5.0",
            "_model_name": "HBoxModel",
            "_view_count": null,
            "_view_module": "@jupyter-widgets/controls",
            "_view_module_version": "1.5.0",
            "_view_name": "HBoxView",
            "box_style": "",
            "children": [
              "IPY_MODEL_026f6f88b3db467aa7e36f3f68893bea",
              "IPY_MODEL_5d249426b6b246aaa7213c02808794a7",
              "IPY_MODEL_06dc3767be694f219c42bf845ef856ff"
            ],
            "layout": "IPY_MODEL_bbbf575dd61f4f78a7bea0dc6450ae7f"
          }
        },
        "026f6f88b3db467aa7e36f3f68893bea": {
          "model_module": "@jupyter-widgets/controls",
          "model_name": "HTMLModel",
          "model_module_version": "1.5.0",
          "state": {
            "_dom_classes": [],
            "_model_module": "@jupyter-widgets/controls",
            "_model_module_version": "1.5.0",
            "_model_name": "HTMLModel",
            "_view_count": null,
            "_view_module": "@jupyter-widgets/controls",
            "_view_module_version": "1.5.0",
            "_view_name": "HTMLView",
            "description": "",
            "description_tooltip": null,
            "layout": "IPY_MODEL_7a94b9b3986145f3a1f32e501701e2d3",
            "placeholder": "​",
            "style": "IPY_MODEL_783e8b548f274f6493ca2b31cd727d9e",
            "value": "vocab.txt: "
          }
        },
        "5d249426b6b246aaa7213c02808794a7": {
          "model_module": "@jupyter-widgets/controls",
          "model_name": "FloatProgressModel",
          "model_module_version": "1.5.0",
          "state": {
            "_dom_classes": [],
            "_model_module": "@jupyter-widgets/controls",
            "_model_module_version": "1.5.0",
            "_model_name": "FloatProgressModel",
            "_view_count": null,
            "_view_module": "@jupyter-widgets/controls",
            "_view_module_version": "1.5.0",
            "_view_name": "ProgressView",
            "bar_style": "success",
            "description": "",
            "description_tooltip": null,
            "layout": "IPY_MODEL_1a6f0e3b836b49b1b41ebe5cd2c14841",
            "max": 1,
            "min": 0,
            "orientation": "horizontal",
            "style": "IPY_MODEL_cfacc2e2e9504f3fbd431310a30955e7",
            "value": 1
          }
        },
        "06dc3767be694f219c42bf845ef856ff": {
          "model_module": "@jupyter-widgets/controls",
          "model_name": "HTMLModel",
          "model_module_version": "1.5.0",
          "state": {
            "_dom_classes": [],
            "_model_module": "@jupyter-widgets/controls",
            "_model_module_version": "1.5.0",
            "_model_name": "HTMLModel",
            "_view_count": null,
            "_view_module": "@jupyter-widgets/controls",
            "_view_module_version": "1.5.0",
            "_view_name": "HTMLView",
            "description": "",
            "description_tooltip": null,
            "layout": "IPY_MODEL_76e8034a611c4501a96f1d3b1445eaad",
            "placeholder": "​",
            "style": "IPY_MODEL_39b29012263b45d58004801014d183d6",
            "value": " 222k/? [00:00&lt;00:00, 1.53MB/s]"
          }
        },
        "bbbf575dd61f4f78a7bea0dc6450ae7f": {
          "model_module": "@jupyter-widgets/base",
          "model_name": "LayoutModel",
          "model_module_version": "1.2.0",
          "state": {
            "_model_module": "@jupyter-widgets/base",
            "_model_module_version": "1.2.0",
            "_model_name": "LayoutModel",
            "_view_count": null,
            "_view_module": "@jupyter-widgets/base",
            "_view_module_version": "1.2.0",
            "_view_name": "LayoutView",
            "align_content": null,
            "align_items": null,
            "align_self": null,
            "border": null,
            "bottom": null,
            "display": null,
            "flex": null,
            "flex_flow": null,
            "grid_area": null,
            "grid_auto_columns": null,
            "grid_auto_flow": null,
            "grid_auto_rows": null,
            "grid_column": null,
            "grid_gap": null,
            "grid_row": null,
            "grid_template_areas": null,
            "grid_template_columns": null,
            "grid_template_rows": null,
            "height": null,
            "justify_content": null,
            "justify_items": null,
            "left": null,
            "margin": null,
            "max_height": null,
            "max_width": null,
            "min_height": null,
            "min_width": null,
            "object_fit": null,
            "object_position": null,
            "order": null,
            "overflow": null,
            "overflow_x": null,
            "overflow_y": null,
            "padding": null,
            "right": null,
            "top": null,
            "visibility": null,
            "width": null
          }
        },
        "7a94b9b3986145f3a1f32e501701e2d3": {
          "model_module": "@jupyter-widgets/base",
          "model_name": "LayoutModel",
          "model_module_version": "1.2.0",
          "state": {
            "_model_module": "@jupyter-widgets/base",
            "_model_module_version": "1.2.0",
            "_model_name": "LayoutModel",
            "_view_count": null,
            "_view_module": "@jupyter-widgets/base",
            "_view_module_version": "1.2.0",
            "_view_name": "LayoutView",
            "align_content": null,
            "align_items": null,
            "align_self": null,
            "border": null,
            "bottom": null,
            "display": null,
            "flex": null,
            "flex_flow": null,
            "grid_area": null,
            "grid_auto_columns": null,
            "grid_auto_flow": null,
            "grid_auto_rows": null,
            "grid_column": null,
            "grid_gap": null,
            "grid_row": null,
            "grid_template_areas": null,
            "grid_template_columns": null,
            "grid_template_rows": null,
            "height": null,
            "justify_content": null,
            "justify_items": null,
            "left": null,
            "margin": null,
            "max_height": null,
            "max_width": null,
            "min_height": null,
            "min_width": null,
            "object_fit": null,
            "object_position": null,
            "order": null,
            "overflow": null,
            "overflow_x": null,
            "overflow_y": null,
            "padding": null,
            "right": null,
            "top": null,
            "visibility": null,
            "width": null
          }
        },
        "783e8b548f274f6493ca2b31cd727d9e": {
          "model_module": "@jupyter-widgets/controls",
          "model_name": "DescriptionStyleModel",
          "model_module_version": "1.5.0",
          "state": {
            "_model_module": "@jupyter-widgets/controls",
            "_model_module_version": "1.5.0",
            "_model_name": "DescriptionStyleModel",
            "_view_count": null,
            "_view_module": "@jupyter-widgets/base",
            "_view_module_version": "1.2.0",
            "_view_name": "StyleView",
            "description_width": ""
          }
        },
        "1a6f0e3b836b49b1b41ebe5cd2c14841": {
          "model_module": "@jupyter-widgets/base",
          "model_name": "LayoutModel",
          "model_module_version": "1.2.0",
          "state": {
            "_model_module": "@jupyter-widgets/base",
            "_model_module_version": "1.2.0",
            "_model_name": "LayoutModel",
            "_view_count": null,
            "_view_module": "@jupyter-widgets/base",
            "_view_module_version": "1.2.0",
            "_view_name": "LayoutView",
            "align_content": null,
            "align_items": null,
            "align_self": null,
            "border": null,
            "bottom": null,
            "display": null,
            "flex": null,
            "flex_flow": null,
            "grid_area": null,
            "grid_auto_columns": null,
            "grid_auto_flow": null,
            "grid_auto_rows": null,
            "grid_column": null,
            "grid_gap": null,
            "grid_row": null,
            "grid_template_areas": null,
            "grid_template_columns": null,
            "grid_template_rows": null,
            "height": null,
            "justify_content": null,
            "justify_items": null,
            "left": null,
            "margin": null,
            "max_height": null,
            "max_width": null,
            "min_height": null,
            "min_width": null,
            "object_fit": null,
            "object_position": null,
            "order": null,
            "overflow": null,
            "overflow_x": null,
            "overflow_y": null,
            "padding": null,
            "right": null,
            "top": null,
            "visibility": null,
            "width": "20px"
          }
        },
        "cfacc2e2e9504f3fbd431310a30955e7": {
          "model_module": "@jupyter-widgets/controls",
          "model_name": "ProgressStyleModel",
          "model_module_version": "1.5.0",
          "state": {
            "_model_module": "@jupyter-widgets/controls",
            "_model_module_version": "1.5.0",
            "_model_name": "ProgressStyleModel",
            "_view_count": null,
            "_view_module": "@jupyter-widgets/base",
            "_view_module_version": "1.2.0",
            "_view_name": "StyleView",
            "bar_color": null,
            "description_width": ""
          }
        },
        "76e8034a611c4501a96f1d3b1445eaad": {
          "model_module": "@jupyter-widgets/base",
          "model_name": "LayoutModel",
          "model_module_version": "1.2.0",
          "state": {
            "_model_module": "@jupyter-widgets/base",
            "_model_module_version": "1.2.0",
            "_model_name": "LayoutModel",
            "_view_count": null,
            "_view_module": "@jupyter-widgets/base",
            "_view_module_version": "1.2.0",
            "_view_name": "LayoutView",
            "align_content": null,
            "align_items": null,
            "align_self": null,
            "border": null,
            "bottom": null,
            "display": null,
            "flex": null,
            "flex_flow": null,
            "grid_area": null,
            "grid_auto_columns": null,
            "grid_auto_flow": null,
            "grid_auto_rows": null,
            "grid_column": null,
            "grid_gap": null,
            "grid_row": null,
            "grid_template_areas": null,
            "grid_template_columns": null,
            "grid_template_rows": null,
            "height": null,
            "justify_content": null,
            "justify_items": null,
            "left": null,
            "margin": null,
            "max_height": null,
            "max_width": null,
            "min_height": null,
            "min_width": null,
            "object_fit": null,
            "object_position": null,
            "order": null,
            "overflow": null,
            "overflow_x": null,
            "overflow_y": null,
            "padding": null,
            "right": null,
            "top": null,
            "visibility": null,
            "width": null
          }
        },
        "39b29012263b45d58004801014d183d6": {
          "model_module": "@jupyter-widgets/controls",
          "model_name": "DescriptionStyleModel",
          "model_module_version": "1.5.0",
          "state": {
            "_model_module": "@jupyter-widgets/controls",
            "_model_module_version": "1.5.0",
            "_model_name": "DescriptionStyleModel",
            "_view_count": null,
            "_view_module": "@jupyter-widgets/base",
            "_view_module_version": "1.2.0",
            "_view_name": "StyleView",
            "description_width": ""
          }
        },
        "7217162f098e47479b17f6f7c7a5274c": {
          "model_module": "@jupyter-widgets/controls",
          "model_name": "HBoxModel",
          "model_module_version": "1.5.0",
          "state": {
            "_dom_classes": [],
            "_model_module": "@jupyter-widgets/controls",
            "_model_module_version": "1.5.0",
            "_model_name": "HBoxModel",
            "_view_count": null,
            "_view_module": "@jupyter-widgets/controls",
            "_view_module_version": "1.5.0",
            "_view_name": "HBoxView",
            "box_style": "",
            "children": [
              "IPY_MODEL_40856bcee31343eda47adc0a74360574",
              "IPY_MODEL_a59c45897bb943299301c9bf075a3229",
              "IPY_MODEL_3af4263b243641a2a5278fd818ca28bf"
            ],
            "layout": "IPY_MODEL_20357c06c35d4b76b3dc2a643bf3ba86"
          }
        },
        "40856bcee31343eda47adc0a74360574": {
          "model_module": "@jupyter-widgets/controls",
          "model_name": "HTMLModel",
          "model_module_version": "1.5.0",
          "state": {
            "_dom_classes": [],
            "_model_module": "@jupyter-widgets/controls",
            "_model_module_version": "1.5.0",
            "_model_name": "HTMLModel",
            "_view_count": null,
            "_view_module": "@jupyter-widgets/controls",
            "_view_module_version": "1.5.0",
            "_view_name": "HTMLView",
            "description": "",
            "description_tooltip": null,
            "layout": "IPY_MODEL_4b998efb62044c7ba44f490542e1df22",
            "placeholder": "​",
            "style": "IPY_MODEL_6589b2d23fbd453ebdad4601371af11e",
            "value": "special_tokens_map.json: 100%"
          }
        },
        "a59c45897bb943299301c9bf075a3229": {
          "model_module": "@jupyter-widgets/controls",
          "model_name": "FloatProgressModel",
          "model_module_version": "1.5.0",
          "state": {
            "_dom_classes": [],
            "_model_module": "@jupyter-widgets/controls",
            "_model_module_version": "1.5.0",
            "_model_name": "FloatProgressModel",
            "_view_count": null,
            "_view_module": "@jupyter-widgets/controls",
            "_view_module_version": "1.5.0",
            "_view_name": "ProgressView",
            "bar_style": "success",
            "description": "",
            "description_tooltip": null,
            "layout": "IPY_MODEL_b23e2db292da4309a389f66dcb4e3fe3",
            "max": 112,
            "min": 0,
            "orientation": "horizontal",
            "style": "IPY_MODEL_647f4a3b477c4c0da1a29da0c118f51b",
            "value": 112
          }
        },
        "3af4263b243641a2a5278fd818ca28bf": {
          "model_module": "@jupyter-widgets/controls",
          "model_name": "HTMLModel",
          "model_module_version": "1.5.0",
          "state": {
            "_dom_classes": [],
            "_model_module": "@jupyter-widgets/controls",
            "_model_module_version": "1.5.0",
            "_model_name": "HTMLModel",
            "_view_count": null,
            "_view_module": "@jupyter-widgets/controls",
            "_view_module_version": "1.5.0",
            "_view_name": "HTMLView",
            "description": "",
            "description_tooltip": null,
            "layout": "IPY_MODEL_51deb40d577144e4a60d70bc85e5d58b",
            "placeholder": "​",
            "style": "IPY_MODEL_47fea4ff8c0c406393588fd8718d19fa",
            "value": " 112/112 [00:00&lt;00:00, 2.29kB/s]"
          }
        },
        "20357c06c35d4b76b3dc2a643bf3ba86": {
          "model_module": "@jupyter-widgets/base",
          "model_name": "LayoutModel",
          "model_module_version": "1.2.0",
          "state": {
            "_model_module": "@jupyter-widgets/base",
            "_model_module_version": "1.2.0",
            "_model_name": "LayoutModel",
            "_view_count": null,
            "_view_module": "@jupyter-widgets/base",
            "_view_module_version": "1.2.0",
            "_view_name": "LayoutView",
            "align_content": null,
            "align_items": null,
            "align_self": null,
            "border": null,
            "bottom": null,
            "display": null,
            "flex": null,
            "flex_flow": null,
            "grid_area": null,
            "grid_auto_columns": null,
            "grid_auto_flow": null,
            "grid_auto_rows": null,
            "grid_column": null,
            "grid_gap": null,
            "grid_row": null,
            "grid_template_areas": null,
            "grid_template_columns": null,
            "grid_template_rows": null,
            "height": null,
            "justify_content": null,
            "justify_items": null,
            "left": null,
            "margin": null,
            "max_height": null,
            "max_width": null,
            "min_height": null,
            "min_width": null,
            "object_fit": null,
            "object_position": null,
            "order": null,
            "overflow": null,
            "overflow_x": null,
            "overflow_y": null,
            "padding": null,
            "right": null,
            "top": null,
            "visibility": null,
            "width": null
          }
        },
        "4b998efb62044c7ba44f490542e1df22": {
          "model_module": "@jupyter-widgets/base",
          "model_name": "LayoutModel",
          "model_module_version": "1.2.0",
          "state": {
            "_model_module": "@jupyter-widgets/base",
            "_model_module_version": "1.2.0",
            "_model_name": "LayoutModel",
            "_view_count": null,
            "_view_module": "@jupyter-widgets/base",
            "_view_module_version": "1.2.0",
            "_view_name": "LayoutView",
            "align_content": null,
            "align_items": null,
            "align_self": null,
            "border": null,
            "bottom": null,
            "display": null,
            "flex": null,
            "flex_flow": null,
            "grid_area": null,
            "grid_auto_columns": null,
            "grid_auto_flow": null,
            "grid_auto_rows": null,
            "grid_column": null,
            "grid_gap": null,
            "grid_row": null,
            "grid_template_areas": null,
            "grid_template_columns": null,
            "grid_template_rows": null,
            "height": null,
            "justify_content": null,
            "justify_items": null,
            "left": null,
            "margin": null,
            "max_height": null,
            "max_width": null,
            "min_height": null,
            "min_width": null,
            "object_fit": null,
            "object_position": null,
            "order": null,
            "overflow": null,
            "overflow_x": null,
            "overflow_y": null,
            "padding": null,
            "right": null,
            "top": null,
            "visibility": null,
            "width": null
          }
        },
        "6589b2d23fbd453ebdad4601371af11e": {
          "model_module": "@jupyter-widgets/controls",
          "model_name": "DescriptionStyleModel",
          "model_module_version": "1.5.0",
          "state": {
            "_model_module": "@jupyter-widgets/controls",
            "_model_module_version": "1.5.0",
            "_model_name": "DescriptionStyleModel",
            "_view_count": null,
            "_view_module": "@jupyter-widgets/base",
            "_view_module_version": "1.2.0",
            "_view_name": "StyleView",
            "description_width": ""
          }
        },
        "b23e2db292da4309a389f66dcb4e3fe3": {
          "model_module": "@jupyter-widgets/base",
          "model_name": "LayoutModel",
          "model_module_version": "1.2.0",
          "state": {
            "_model_module": "@jupyter-widgets/base",
            "_model_module_version": "1.2.0",
            "_model_name": "LayoutModel",
            "_view_count": null,
            "_view_module": "@jupyter-widgets/base",
            "_view_module_version": "1.2.0",
            "_view_name": "LayoutView",
            "align_content": null,
            "align_items": null,
            "align_self": null,
            "border": null,
            "bottom": null,
            "display": null,
            "flex": null,
            "flex_flow": null,
            "grid_area": null,
            "grid_auto_columns": null,
            "grid_auto_flow": null,
            "grid_auto_rows": null,
            "grid_column": null,
            "grid_gap": null,
            "grid_row": null,
            "grid_template_areas": null,
            "grid_template_columns": null,
            "grid_template_rows": null,
            "height": null,
            "justify_content": null,
            "justify_items": null,
            "left": null,
            "margin": null,
            "max_height": null,
            "max_width": null,
            "min_height": null,
            "min_width": null,
            "object_fit": null,
            "object_position": null,
            "order": null,
            "overflow": null,
            "overflow_x": null,
            "overflow_y": null,
            "padding": null,
            "right": null,
            "top": null,
            "visibility": null,
            "width": null
          }
        },
        "647f4a3b477c4c0da1a29da0c118f51b": {
          "model_module": "@jupyter-widgets/controls",
          "model_name": "ProgressStyleModel",
          "model_module_version": "1.5.0",
          "state": {
            "_model_module": "@jupyter-widgets/controls",
            "_model_module_version": "1.5.0",
            "_model_name": "ProgressStyleModel",
            "_view_count": null,
            "_view_module": "@jupyter-widgets/base",
            "_view_module_version": "1.2.0",
            "_view_name": "StyleView",
            "bar_color": null,
            "description_width": ""
          }
        },
        "51deb40d577144e4a60d70bc85e5d58b": {
          "model_module": "@jupyter-widgets/base",
          "model_name": "LayoutModel",
          "model_module_version": "1.2.0",
          "state": {
            "_model_module": "@jupyter-widgets/base",
            "_model_module_version": "1.2.0",
            "_model_name": "LayoutModel",
            "_view_count": null,
            "_view_module": "@jupyter-widgets/base",
            "_view_module_version": "1.2.0",
            "_view_name": "LayoutView",
            "align_content": null,
            "align_items": null,
            "align_self": null,
            "border": null,
            "bottom": null,
            "display": null,
            "flex": null,
            "flex_flow": null,
            "grid_area": null,
            "grid_auto_columns": null,
            "grid_auto_flow": null,
            "grid_auto_rows": null,
            "grid_column": null,
            "grid_gap": null,
            "grid_row": null,
            "grid_template_areas": null,
            "grid_template_columns": null,
            "grid_template_rows": null,
            "height": null,
            "justify_content": null,
            "justify_items": null,
            "left": null,
            "margin": null,
            "max_height": null,
            "max_width": null,
            "min_height": null,
            "min_width": null,
            "object_fit": null,
            "object_position": null,
            "order": null,
            "overflow": null,
            "overflow_x": null,
            "overflow_y": null,
            "padding": null,
            "right": null,
            "top": null,
            "visibility": null,
            "width": null
          }
        },
        "47fea4ff8c0c406393588fd8718d19fa": {
          "model_module": "@jupyter-widgets/controls",
          "model_name": "DescriptionStyleModel",
          "model_module_version": "1.5.0",
          "state": {
            "_model_module": "@jupyter-widgets/controls",
            "_model_module_version": "1.5.0",
            "_model_name": "DescriptionStyleModel",
            "_view_count": null,
            "_view_module": "@jupyter-widgets/base",
            "_view_module_version": "1.2.0",
            "_view_name": "StyleView",
            "description_width": ""
          }
        },
        "bc2e5b10928f4430b05263b69867dd83": {
          "model_module": "@jupyter-widgets/controls",
          "model_name": "HBoxModel",
          "model_module_version": "1.5.0",
          "state": {
            "_dom_classes": [],
            "_model_module": "@jupyter-widgets/controls",
            "_model_module_version": "1.5.0",
            "_model_name": "HBoxModel",
            "_view_count": null,
            "_view_module": "@jupyter-widgets/controls",
            "_view_module_version": "1.5.0",
            "_view_name": "HBoxView",
            "box_style": "",
            "children": [
              "IPY_MODEL_8a06803ada1d4375a202543a0876fdfd",
              "IPY_MODEL_b06c13dd51b846e4b126cd6449500a5d",
              "IPY_MODEL_1afa9844ab59479c9700a3175e3e96a0"
            ],
            "layout": "IPY_MODEL_3370234ac0734ff5b0de1c588c596133"
          }
        },
        "8a06803ada1d4375a202543a0876fdfd": {
          "model_module": "@jupyter-widgets/controls",
          "model_name": "HTMLModel",
          "model_module_version": "1.5.0",
          "state": {
            "_dom_classes": [],
            "_model_module": "@jupyter-widgets/controls",
            "_model_module_version": "1.5.0",
            "_model_name": "HTMLModel",
            "_view_count": null,
            "_view_module": "@jupyter-widgets/controls",
            "_view_module_version": "1.5.0",
            "_view_name": "HTMLView",
            "description": "",
            "description_tooltip": null,
            "layout": "IPY_MODEL_21a843b5dc5d4505a6dbe3dee72d0f37",
            "placeholder": "​",
            "style": "IPY_MODEL_d508b39fc111459399a1ac55247c2e44",
            "value": "config.json: 100%"
          }
        },
        "b06c13dd51b846e4b126cd6449500a5d": {
          "model_module": "@jupyter-widgets/controls",
          "model_name": "FloatProgressModel",
          "model_module_version": "1.5.0",
          "state": {
            "_dom_classes": [],
            "_model_module": "@jupyter-widgets/controls",
            "_model_module_version": "1.5.0",
            "_model_name": "FloatProgressModel",
            "_view_count": null,
            "_view_module": "@jupyter-widgets/controls",
            "_view_module_version": "1.5.0",
            "_view_name": "ProgressView",
            "bar_style": "success",
            "description": "",
            "description_tooltip": null,
            "layout": "IPY_MODEL_827f6aefdbb048eea8e8457281d14e4f",
            "max": 671,
            "min": 0,
            "orientation": "horizontal",
            "style": "IPY_MODEL_4270143a0c814d8493de69136568041f",
            "value": 671
          }
        },
        "1afa9844ab59479c9700a3175e3e96a0": {
          "model_module": "@jupyter-widgets/controls",
          "model_name": "HTMLModel",
          "model_module_version": "1.5.0",
          "state": {
            "_dom_classes": [],
            "_model_module": "@jupyter-widgets/controls",
            "_model_module_version": "1.5.0",
            "_model_name": "HTMLModel",
            "_view_count": null,
            "_view_module": "@jupyter-widgets/controls",
            "_view_module_version": "1.5.0",
            "_view_name": "HTMLView",
            "description": "",
            "description_tooltip": null,
            "layout": "IPY_MODEL_5ca84a9e0ff94084b0736ab03f028072",
            "placeholder": "​",
            "style": "IPY_MODEL_b619be06d9fe4f92ab610862ba7f21cd",
            "value": " 671/671 [00:00&lt;00:00, 19.9kB/s]"
          }
        },
        "3370234ac0734ff5b0de1c588c596133": {
          "model_module": "@jupyter-widgets/base",
          "model_name": "LayoutModel",
          "model_module_version": "1.2.0",
          "state": {
            "_model_module": "@jupyter-widgets/base",
            "_model_module_version": "1.2.0",
            "_model_name": "LayoutModel",
            "_view_count": null,
            "_view_module": "@jupyter-widgets/base",
            "_view_module_version": "1.2.0",
            "_view_name": "LayoutView",
            "align_content": null,
            "align_items": null,
            "align_self": null,
            "border": null,
            "bottom": null,
            "display": null,
            "flex": null,
            "flex_flow": null,
            "grid_area": null,
            "grid_auto_columns": null,
            "grid_auto_flow": null,
            "grid_auto_rows": null,
            "grid_column": null,
            "grid_gap": null,
            "grid_row": null,
            "grid_template_areas": null,
            "grid_template_columns": null,
            "grid_template_rows": null,
            "height": null,
            "justify_content": null,
            "justify_items": null,
            "left": null,
            "margin": null,
            "max_height": null,
            "max_width": null,
            "min_height": null,
            "min_width": null,
            "object_fit": null,
            "object_position": null,
            "order": null,
            "overflow": null,
            "overflow_x": null,
            "overflow_y": null,
            "padding": null,
            "right": null,
            "top": null,
            "visibility": null,
            "width": null
          }
        },
        "21a843b5dc5d4505a6dbe3dee72d0f37": {
          "model_module": "@jupyter-widgets/base",
          "model_name": "LayoutModel",
          "model_module_version": "1.2.0",
          "state": {
            "_model_module": "@jupyter-widgets/base",
            "_model_module_version": "1.2.0",
            "_model_name": "LayoutModel",
            "_view_count": null,
            "_view_module": "@jupyter-widgets/base",
            "_view_module_version": "1.2.0",
            "_view_name": "LayoutView",
            "align_content": null,
            "align_items": null,
            "align_self": null,
            "border": null,
            "bottom": null,
            "display": null,
            "flex": null,
            "flex_flow": null,
            "grid_area": null,
            "grid_auto_columns": null,
            "grid_auto_flow": null,
            "grid_auto_rows": null,
            "grid_column": null,
            "grid_gap": null,
            "grid_row": null,
            "grid_template_areas": null,
            "grid_template_columns": null,
            "grid_template_rows": null,
            "height": null,
            "justify_content": null,
            "justify_items": null,
            "left": null,
            "margin": null,
            "max_height": null,
            "max_width": null,
            "min_height": null,
            "min_width": null,
            "object_fit": null,
            "object_position": null,
            "order": null,
            "overflow": null,
            "overflow_x": null,
            "overflow_y": null,
            "padding": null,
            "right": null,
            "top": null,
            "visibility": null,
            "width": null
          }
        },
        "d508b39fc111459399a1ac55247c2e44": {
          "model_module": "@jupyter-widgets/controls",
          "model_name": "DescriptionStyleModel",
          "model_module_version": "1.5.0",
          "state": {
            "_model_module": "@jupyter-widgets/controls",
            "_model_module_version": "1.5.0",
            "_model_name": "DescriptionStyleModel",
            "_view_count": null,
            "_view_module": "@jupyter-widgets/base",
            "_view_module_version": "1.2.0",
            "_view_name": "StyleView",
            "description_width": ""
          }
        },
        "827f6aefdbb048eea8e8457281d14e4f": {
          "model_module": "@jupyter-widgets/base",
          "model_name": "LayoutModel",
          "model_module_version": "1.2.0",
          "state": {
            "_model_module": "@jupyter-widgets/base",
            "_model_module_version": "1.2.0",
            "_model_name": "LayoutModel",
            "_view_count": null,
            "_view_module": "@jupyter-widgets/base",
            "_view_module_version": "1.2.0",
            "_view_name": "LayoutView",
            "align_content": null,
            "align_items": null,
            "align_self": null,
            "border": null,
            "bottom": null,
            "display": null,
            "flex": null,
            "flex_flow": null,
            "grid_area": null,
            "grid_auto_columns": null,
            "grid_auto_flow": null,
            "grid_auto_rows": null,
            "grid_column": null,
            "grid_gap": null,
            "grid_row": null,
            "grid_template_areas": null,
            "grid_template_columns": null,
            "grid_template_rows": null,
            "height": null,
            "justify_content": null,
            "justify_items": null,
            "left": null,
            "margin": null,
            "max_height": null,
            "max_width": null,
            "min_height": null,
            "min_width": null,
            "object_fit": null,
            "object_position": null,
            "order": null,
            "overflow": null,
            "overflow_x": null,
            "overflow_y": null,
            "padding": null,
            "right": null,
            "top": null,
            "visibility": null,
            "width": null
          }
        },
        "4270143a0c814d8493de69136568041f": {
          "model_module": "@jupyter-widgets/controls",
          "model_name": "ProgressStyleModel",
          "model_module_version": "1.5.0",
          "state": {
            "_model_module": "@jupyter-widgets/controls",
            "_model_module_version": "1.5.0",
            "_model_name": "ProgressStyleModel",
            "_view_count": null,
            "_view_module": "@jupyter-widgets/base",
            "_view_module_version": "1.2.0",
            "_view_name": "StyleView",
            "bar_color": null,
            "description_width": ""
          }
        },
        "5ca84a9e0ff94084b0736ab03f028072": {
          "model_module": "@jupyter-widgets/base",
          "model_name": "LayoutModel",
          "model_module_version": "1.2.0",
          "state": {
            "_model_module": "@jupyter-widgets/base",
            "_model_module_version": "1.2.0",
            "_model_name": "LayoutModel",
            "_view_count": null,
            "_view_module": "@jupyter-widgets/base",
            "_view_module_version": "1.2.0",
            "_view_name": "LayoutView",
            "align_content": null,
            "align_items": null,
            "align_self": null,
            "border": null,
            "bottom": null,
            "display": null,
            "flex": null,
            "flex_flow": null,
            "grid_area": null,
            "grid_auto_columns": null,
            "grid_auto_flow": null,
            "grid_auto_rows": null,
            "grid_column": null,
            "grid_gap": null,
            "grid_row": null,
            "grid_template_areas": null,
            "grid_template_columns": null,
            "grid_template_rows": null,
            "height": null,
            "justify_content": null,
            "justify_items": null,
            "left": null,
            "margin": null,
            "max_height": null,
            "max_width": null,
            "min_height": null,
            "min_width": null,
            "object_fit": null,
            "object_position": null,
            "order": null,
            "overflow": null,
            "overflow_x": null,
            "overflow_y": null,
            "padding": null,
            "right": null,
            "top": null,
            "visibility": null,
            "width": null
          }
        },
        "b619be06d9fe4f92ab610862ba7f21cd": {
          "model_module": "@jupyter-widgets/controls",
          "model_name": "DescriptionStyleModel",
          "model_module_version": "1.5.0",
          "state": {
            "_model_module": "@jupyter-widgets/controls",
            "_model_module_version": "1.5.0",
            "_model_name": "DescriptionStyleModel",
            "_view_count": null,
            "_view_module": "@jupyter-widgets/base",
            "_view_module_version": "1.2.0",
            "_view_name": "StyleView",
            "description_width": ""
          }
        },
        "781e19f5c02b435b831026d988707181": {
          "model_module": "@jupyter-widgets/controls",
          "model_name": "HBoxModel",
          "model_module_version": "1.5.0",
          "state": {
            "_dom_classes": [],
            "_model_module": "@jupyter-widgets/controls",
            "_model_module_version": "1.5.0",
            "_model_name": "HBoxModel",
            "_view_count": null,
            "_view_module": "@jupyter-widgets/controls",
            "_view_module_version": "1.5.0",
            "_view_name": "HBoxView",
            "box_style": "",
            "children": [
              "IPY_MODEL_be9d679e942f49cd97e2d79bf0248d30",
              "IPY_MODEL_a366c4b5a61940cb8f404571482b5df4",
              "IPY_MODEL_397a7f573c1b4333951b88907e8611ca"
            ],
            "layout": "IPY_MODEL_b953843cb6b244bc9b95f5143f681c79"
          }
        },
        "be9d679e942f49cd97e2d79bf0248d30": {
          "model_module": "@jupyter-widgets/controls",
          "model_name": "HTMLModel",
          "model_module_version": "1.5.0",
          "state": {
            "_dom_classes": [],
            "_model_module": "@jupyter-widgets/controls",
            "_model_module_version": "1.5.0",
            "_model_name": "HTMLModel",
            "_view_count": null,
            "_view_module": "@jupyter-widgets/controls",
            "_view_module_version": "1.5.0",
            "_view_name": "HTMLView",
            "description": "",
            "description_tooltip": null,
            "layout": "IPY_MODEL_401c9a1426d24c189eed3c201623439d",
            "placeholder": "​",
            "style": "IPY_MODEL_9d55648dff484207afe85eb3fad0b373",
            "value": "pytorch_model.bin: 100%"
          }
        },
        "a366c4b5a61940cb8f404571482b5df4": {
          "model_module": "@jupyter-widgets/controls",
          "model_name": "FloatProgressModel",
          "model_module_version": "1.5.0",
          "state": {
            "_dom_classes": [],
            "_model_module": "@jupyter-widgets/controls",
            "_model_module_version": "1.5.0",
            "_model_name": "FloatProgressModel",
            "_view_count": null,
            "_view_module": "@jupyter-widgets/controls",
            "_view_module_version": "1.5.0",
            "_view_name": "ProgressView",
            "bar_style": "success",
            "description": "",
            "description_tooltip": null,
            "layout": "IPY_MODEL_2ce737bbe8b549c1b0ed01060eb16179",
            "max": 534276705,
            "min": 0,
            "orientation": "horizontal",
            "style": "IPY_MODEL_5b206563b8334a078b63da6e4fa43aab",
            "value": 534276705
          }
        },
        "397a7f573c1b4333951b88907e8611ca": {
          "model_module": "@jupyter-widgets/controls",
          "model_name": "HTMLModel",
          "model_module_version": "1.5.0",
          "state": {
            "_dom_classes": [],
            "_model_module": "@jupyter-widgets/controls",
            "_model_module_version": "1.5.0",
            "_model_name": "HTMLModel",
            "_view_count": null,
            "_view_module": "@jupyter-widgets/controls",
            "_view_module_version": "1.5.0",
            "_view_name": "HTMLView",
            "description": "",
            "description_tooltip": null,
            "layout": "IPY_MODEL_bf1900e539434e519a0e59c8a7283e9f",
            "placeholder": "​",
            "style": "IPY_MODEL_0fee694540d44b79ba1de36c756d94c8",
            "value": " 534M/534M [00:11&lt;00:00, 67.5MB/s]"
          }
        },
        "b953843cb6b244bc9b95f5143f681c79": {
          "model_module": "@jupyter-widgets/base",
          "model_name": "LayoutModel",
          "model_module_version": "1.2.0",
          "state": {
            "_model_module": "@jupyter-widgets/base",
            "_model_module_version": "1.2.0",
            "_model_name": "LayoutModel",
            "_view_count": null,
            "_view_module": "@jupyter-widgets/base",
            "_view_module_version": "1.2.0",
            "_view_name": "LayoutView",
            "align_content": null,
            "align_items": null,
            "align_self": null,
            "border": null,
            "bottom": null,
            "display": null,
            "flex": null,
            "flex_flow": null,
            "grid_area": null,
            "grid_auto_columns": null,
            "grid_auto_flow": null,
            "grid_auto_rows": null,
            "grid_column": null,
            "grid_gap": null,
            "grid_row": null,
            "grid_template_areas": null,
            "grid_template_columns": null,
            "grid_template_rows": null,
            "height": null,
            "justify_content": null,
            "justify_items": null,
            "left": null,
            "margin": null,
            "max_height": null,
            "max_width": null,
            "min_height": null,
            "min_width": null,
            "object_fit": null,
            "object_position": null,
            "order": null,
            "overflow": null,
            "overflow_x": null,
            "overflow_y": null,
            "padding": null,
            "right": null,
            "top": null,
            "visibility": null,
            "width": null
          }
        },
        "401c9a1426d24c189eed3c201623439d": {
          "model_module": "@jupyter-widgets/base",
          "model_name": "LayoutModel",
          "model_module_version": "1.2.0",
          "state": {
            "_model_module": "@jupyter-widgets/base",
            "_model_module_version": "1.2.0",
            "_model_name": "LayoutModel",
            "_view_count": null,
            "_view_module": "@jupyter-widgets/base",
            "_view_module_version": "1.2.0",
            "_view_name": "LayoutView",
            "align_content": null,
            "align_items": null,
            "align_self": null,
            "border": null,
            "bottom": null,
            "display": null,
            "flex": null,
            "flex_flow": null,
            "grid_area": null,
            "grid_auto_columns": null,
            "grid_auto_flow": null,
            "grid_auto_rows": null,
            "grid_column": null,
            "grid_gap": null,
            "grid_row": null,
            "grid_template_areas": null,
            "grid_template_columns": null,
            "grid_template_rows": null,
            "height": null,
            "justify_content": null,
            "justify_items": null,
            "left": null,
            "margin": null,
            "max_height": null,
            "max_width": null,
            "min_height": null,
            "min_width": null,
            "object_fit": null,
            "object_position": null,
            "order": null,
            "overflow": null,
            "overflow_x": null,
            "overflow_y": null,
            "padding": null,
            "right": null,
            "top": null,
            "visibility": null,
            "width": null
          }
        },
        "9d55648dff484207afe85eb3fad0b373": {
          "model_module": "@jupyter-widgets/controls",
          "model_name": "DescriptionStyleModel",
          "model_module_version": "1.5.0",
          "state": {
            "_model_module": "@jupyter-widgets/controls",
            "_model_module_version": "1.5.0",
            "_model_name": "DescriptionStyleModel",
            "_view_count": null,
            "_view_module": "@jupyter-widgets/base",
            "_view_module_version": "1.2.0",
            "_view_name": "StyleView",
            "description_width": ""
          }
        },
        "2ce737bbe8b549c1b0ed01060eb16179": {
          "model_module": "@jupyter-widgets/base",
          "model_name": "LayoutModel",
          "model_module_version": "1.2.0",
          "state": {
            "_model_module": "@jupyter-widgets/base",
            "_model_module_version": "1.2.0",
            "_model_name": "LayoutModel",
            "_view_count": null,
            "_view_module": "@jupyter-widgets/base",
            "_view_module_version": "1.2.0",
            "_view_name": "LayoutView",
            "align_content": null,
            "align_items": null,
            "align_self": null,
            "border": null,
            "bottom": null,
            "display": null,
            "flex": null,
            "flex_flow": null,
            "grid_area": null,
            "grid_auto_columns": null,
            "grid_auto_flow": null,
            "grid_auto_rows": null,
            "grid_column": null,
            "grid_gap": null,
            "grid_row": null,
            "grid_template_areas": null,
            "grid_template_columns": null,
            "grid_template_rows": null,
            "height": null,
            "justify_content": null,
            "justify_items": null,
            "left": null,
            "margin": null,
            "max_height": null,
            "max_width": null,
            "min_height": null,
            "min_width": null,
            "object_fit": null,
            "object_position": null,
            "order": null,
            "overflow": null,
            "overflow_x": null,
            "overflow_y": null,
            "padding": null,
            "right": null,
            "top": null,
            "visibility": null,
            "width": null
          }
        },
        "5b206563b8334a078b63da6e4fa43aab": {
          "model_module": "@jupyter-widgets/controls",
          "model_name": "ProgressStyleModel",
          "model_module_version": "1.5.0",
          "state": {
            "_model_module": "@jupyter-widgets/controls",
            "_model_module_version": "1.5.0",
            "_model_name": "ProgressStyleModel",
            "_view_count": null,
            "_view_module": "@jupyter-widgets/base",
            "_view_module_version": "1.2.0",
            "_view_name": "StyleView",
            "bar_color": null,
            "description_width": ""
          }
        },
        "bf1900e539434e519a0e59c8a7283e9f": {
          "model_module": "@jupyter-widgets/base",
          "model_name": "LayoutModel",
          "model_module_version": "1.2.0",
          "state": {
            "_model_module": "@jupyter-widgets/base",
            "_model_module_version": "1.2.0",
            "_model_name": "LayoutModel",
            "_view_count": null,
            "_view_module": "@jupyter-widgets/base",
            "_view_module_version": "1.2.0",
            "_view_name": "LayoutView",
            "align_content": null,
            "align_items": null,
            "align_self": null,
            "border": null,
            "bottom": null,
            "display": null,
            "flex": null,
            "flex_flow": null,
            "grid_area": null,
            "grid_auto_columns": null,
            "grid_auto_flow": null,
            "grid_auto_rows": null,
            "grid_column": null,
            "grid_gap": null,
            "grid_row": null,
            "grid_template_areas": null,
            "grid_template_columns": null,
            "grid_template_rows": null,
            "height": null,
            "justify_content": null,
            "justify_items": null,
            "left": null,
            "margin": null,
            "max_height": null,
            "max_width": null,
            "min_height": null,
            "min_width": null,
            "object_fit": null,
            "object_position": null,
            "order": null,
            "overflow": null,
            "overflow_x": null,
            "overflow_y": null,
            "padding": null,
            "right": null,
            "top": null,
            "visibility": null,
            "width": null
          }
        },
        "0fee694540d44b79ba1de36c756d94c8": {
          "model_module": "@jupyter-widgets/controls",
          "model_name": "DescriptionStyleModel",
          "model_module_version": "1.5.0",
          "state": {
            "_model_module": "@jupyter-widgets/controls",
            "_model_module_version": "1.5.0",
            "_model_name": "DescriptionStyleModel",
            "_view_count": null,
            "_view_module": "@jupyter-widgets/base",
            "_view_module_version": "1.2.0",
            "_view_name": "StyleView",
            "description_width": ""
          }
        }
      }
    }
  },
  "cells": [
    {
      "cell_type": "markdown",
      "metadata": {
        "id": "view-in-github",
        "colab_type": "text"
      },
      "source": [
        "<a href=\"https://colab.research.google.com/github/Jeet009/legal-assistant-qdrant/blob/main/legal_assistant_ai_agent.ipynb\" target=\"_parent\"><img src=\"https://colab.research.google.com/assets/colab-badge.svg\" alt=\"Open In Colab\"/></a>"
      ]
    },
    {
      "cell_type": "code",
      "execution_count": null,
      "metadata": {
        "colab": {
          "base_uri": "https://localhost:8080/"
        },
        "collapsed": true,
        "id": "bjz8PQj55M2J",
        "outputId": "92bd6736-3253-404f-f1e0-d07b978d7afb"
      },
      "outputs": [
        {
          "output_type": "stream",
          "name": "stdout",
          "text": [
            "\u001b[2K     \u001b[90m━━━━━━━━━━━━━━━━━━━━━━━━━━━━━━━━━━━━━━━━\u001b[0m \u001b[32m42.8/42.8 kB\u001b[0m \u001b[31m1.3 MB/s\u001b[0m eta \u001b[36m0:00:00\u001b[0m\n",
            "\u001b[2K     \u001b[90m━━━━━━━━━━━━━━━━━━━━━━━━━━━━━━━━━━━━━━━━\u001b[0m \u001b[32m48.5/48.5 kB\u001b[0m \u001b[31m1.6 MB/s\u001b[0m eta \u001b[36m0:00:00\u001b[0m\n",
            "\u001b[2K   \u001b[90m━━━━━━━━━━━━━━━━━━━━━━━━━━━━━━━━━━━━━━━━\u001b[0m \u001b[32m337.3/337.3 kB\u001b[0m \u001b[31m14.1 MB/s\u001b[0m eta \u001b[36m0:00:00\u001b[0m\n",
            "\u001b[2K   \u001b[90m━━━━━━━━━━━━━━━━━━━━━━━━━━━━━━━━━━━━━━━━\u001b[0m \u001b[32m60.0/60.0 kB\u001b[0m \u001b[31m1.9 MB/s\u001b[0m eta \u001b[36m0:00:00\u001b[0m\n",
            "\u001b[2K   \u001b[90m━━━━━━━━━━━━━━━━━━━━━━━━━━━━━━━━━━━━━━━━\u001b[0m \u001b[32m5.6/5.6 MB\u001b[0m \u001b[31m27.0 MB/s\u001b[0m eta \u001b[36m0:00:00\u001b[0m\n",
            "\u001b[2K   \u001b[90m━━━━━━━━━━━━━━━━━━━━━━━━━━━━━━━━━━━━━━━━\u001b[0m \u001b[32m2.8/2.8 MB\u001b[0m \u001b[31m26.8 MB/s\u001b[0m eta \u001b[36m0:00:00\u001b[0m\n",
            "\u001b[?25h"
          ]
        }
      ],
      "source": [
        "!pip install -q qdrant-client transformers torch pdfplumber tqdm sentencepiece fitz"
      ]
    },
    {
      "cell_type": "code",
      "source": [
        "import kagglehub\n",
        "\n",
        "# Download latest version\n",
        "path = kagglehub.dataset_download(\"adarshsingh0903/legal-dataset-sc-judgments-india-19502024\")\n",
        "\n",
        "print(\"Path to dataset files:\", path)"
      ],
      "metadata": {
        "colab": {
          "base_uri": "https://localhost:8080/",
          "height": 374
        },
        "id": "I7Al4aWV5ijq",
        "outputId": "80bc1129-24bb-46b2-bfb0-072db984f703",
        "collapsed": true
      },
      "execution_count": null,
      "outputs": [
        {
          "output_type": "stream",
          "name": "stdout",
          "text": [
            "Downloading from https://www.kaggle.com/api/v1/datasets/download/adarshsingh0903/legal-dataset-sc-judgments-india-19502024?dataset_version_number=1...\n"
          ]
        },
        {
          "output_type": "stream",
          "name": "stderr",
          "text": [
            "  6%|▋         | 423M/6.40G [00:05<01:16, 84.1MB/s]\n"
          ]
        },
        {
          "output_type": "error",
          "ename": "KeyboardInterrupt",
          "evalue": "",
          "traceback": [
            "\u001b[0;31m---------------------------------------------------------------------------\u001b[0m",
            "\u001b[0;31mKeyboardInterrupt\u001b[0m                         Traceback (most recent call last)",
            "\u001b[0;32m/tmp/ipython-input-3335287305.py\u001b[0m in \u001b[0;36m<cell line: 0>\u001b[0;34m()\u001b[0m\n\u001b[1;32m      2\u001b[0m \u001b[0;34m\u001b[0m\u001b[0m\n\u001b[1;32m      3\u001b[0m \u001b[0;31m# Download latest version\u001b[0m\u001b[0;34m\u001b[0m\u001b[0;34m\u001b[0m\u001b[0m\n\u001b[0;32m----> 4\u001b[0;31m \u001b[0mpath\u001b[0m \u001b[0;34m=\u001b[0m \u001b[0mkagglehub\u001b[0m\u001b[0;34m.\u001b[0m\u001b[0mdataset_download\u001b[0m\u001b[0;34m(\u001b[0m\u001b[0;34m\"adarshsingh0903/legal-dataset-sc-judgments-india-19502024\"\u001b[0m\u001b[0;34m)\u001b[0m\u001b[0;34m\u001b[0m\u001b[0;34m\u001b[0m\u001b[0m\n\u001b[0m\u001b[1;32m      5\u001b[0m \u001b[0;34m\u001b[0m\u001b[0m\n\u001b[1;32m      6\u001b[0m \u001b[0mprint\u001b[0m\u001b[0;34m(\u001b[0m\u001b[0;34m\"Path to dataset files:\"\u001b[0m\u001b[0;34m,\u001b[0m \u001b[0mpath\u001b[0m\u001b[0;34m)\u001b[0m\u001b[0;34m\u001b[0m\u001b[0;34m\u001b[0m\u001b[0m\n",
            "\u001b[0;32m/usr/local/lib/python3.12/dist-packages/kagglehub/datasets.py\u001b[0m in \u001b[0;36mdataset_download\u001b[0;34m(handle, path, force_download)\u001b[0m\n\u001b[1;32m     41\u001b[0m     \u001b[0mh\u001b[0m \u001b[0;34m=\u001b[0m \u001b[0mparse_dataset_handle\u001b[0m\u001b[0;34m(\u001b[0m\u001b[0mhandle\u001b[0m\u001b[0;34m)\u001b[0m\u001b[0;34m\u001b[0m\u001b[0;34m\u001b[0m\u001b[0m\n\u001b[1;32m     42\u001b[0m     \u001b[0mlogger\u001b[0m\u001b[0;34m.\u001b[0m\u001b[0minfo\u001b[0m\u001b[0;34m(\u001b[0m\u001b[0;34mf\"Downloading Dataset: {h.to_url()} ...\"\u001b[0m\u001b[0;34m,\u001b[0m \u001b[0mextra\u001b[0m\u001b[0;34m=\u001b[0m\u001b[0;34m{\u001b[0m\u001b[0;34m**\u001b[0m\u001b[0mEXTRA_CONSOLE_BLOCK\u001b[0m\u001b[0;34m}\u001b[0m\u001b[0;34m)\u001b[0m\u001b[0;34m\u001b[0m\u001b[0;34m\u001b[0m\u001b[0m\n\u001b[0;32m---> 43\u001b[0;31m     \u001b[0mpath\u001b[0m\u001b[0;34m,\u001b[0m \u001b[0m_\u001b[0m \u001b[0;34m=\u001b[0m \u001b[0mregistry\u001b[0m\u001b[0;34m.\u001b[0m\u001b[0mdataset_resolver\u001b[0m\u001b[0;34m(\u001b[0m\u001b[0mh\u001b[0m\u001b[0;34m,\u001b[0m \u001b[0mpath\u001b[0m\u001b[0;34m,\u001b[0m \u001b[0mforce_download\u001b[0m\u001b[0;34m=\u001b[0m\u001b[0mforce_download\u001b[0m\u001b[0;34m)\u001b[0m\u001b[0;34m\u001b[0m\u001b[0;34m\u001b[0m\u001b[0m\n\u001b[0m\u001b[1;32m     44\u001b[0m     \u001b[0;32mreturn\u001b[0m \u001b[0mpath\u001b[0m\u001b[0;34m\u001b[0m\u001b[0;34m\u001b[0m\u001b[0m\n\u001b[1;32m     45\u001b[0m \u001b[0;34m\u001b[0m\u001b[0m\n",
            "\u001b[0;32m/usr/local/lib/python3.12/dist-packages/kagglehub/registry.py\u001b[0m in \u001b[0;36m__call__\u001b[0;34m(self, *args, **kwargs)\u001b[0m\n\u001b[1;32m     26\u001b[0m         \u001b[0;32mfor\u001b[0m \u001b[0mimpl\u001b[0m \u001b[0;32min\u001b[0m \u001b[0mreversed\u001b[0m\u001b[0;34m(\u001b[0m\u001b[0mself\u001b[0m\u001b[0;34m.\u001b[0m\u001b[0m_impls\u001b[0m\u001b[0;34m)\u001b[0m\u001b[0;34m:\u001b[0m\u001b[0;34m\u001b[0m\u001b[0;34m\u001b[0m\u001b[0m\n\u001b[1;32m     27\u001b[0m             \u001b[0;32mif\u001b[0m \u001b[0mimpl\u001b[0m\u001b[0;34m.\u001b[0m\u001b[0mis_supported\u001b[0m\u001b[0;34m(\u001b[0m\u001b[0;34m*\u001b[0m\u001b[0margs\u001b[0m\u001b[0;34m,\u001b[0m \u001b[0;34m**\u001b[0m\u001b[0mkwargs\u001b[0m\u001b[0;34m)\u001b[0m\u001b[0;34m:\u001b[0m\u001b[0;34m\u001b[0m\u001b[0;34m\u001b[0m\u001b[0m\n\u001b[0;32m---> 28\u001b[0;31m                 \u001b[0;32mreturn\u001b[0m \u001b[0mimpl\u001b[0m\u001b[0;34m(\u001b[0m\u001b[0;34m*\u001b[0m\u001b[0margs\u001b[0m\u001b[0;34m,\u001b[0m \u001b[0;34m**\u001b[0m\u001b[0mkwargs\u001b[0m\u001b[0;34m)\u001b[0m\u001b[0;34m\u001b[0m\u001b[0;34m\u001b[0m\u001b[0m\n\u001b[0m\u001b[1;32m     29\u001b[0m             \u001b[0;32melse\u001b[0m\u001b[0;34m:\u001b[0m\u001b[0;34m\u001b[0m\u001b[0;34m\u001b[0m\u001b[0m\n\u001b[1;32m     30\u001b[0m                 \u001b[0mfails\u001b[0m\u001b[0;34m.\u001b[0m\u001b[0mappend\u001b[0m\u001b[0;34m(\u001b[0m\u001b[0mtype\u001b[0m\u001b[0;34m(\u001b[0m\u001b[0mimpl\u001b[0m\u001b[0;34m)\u001b[0m\u001b[0;34m.\u001b[0m\u001b[0m__name__\u001b[0m\u001b[0;34m)\u001b[0m\u001b[0;34m\u001b[0m\u001b[0;34m\u001b[0m\u001b[0m\n",
            "\u001b[0;32m/usr/local/lib/python3.12/dist-packages/kagglehub/resolver.py\u001b[0m in \u001b[0;36m__call__\u001b[0;34m(self, handle, path, force_download)\u001b[0m\n\u001b[1;32m     27\u001b[0m             \u001b[0mSome\u001b[0m \u001b[0mcases\u001b[0m \u001b[0mwhere\u001b[0m \u001b[0mversion\u001b[0m \u001b[0mnumber\u001b[0m \u001b[0mmight\u001b[0m \u001b[0mbe\u001b[0m \u001b[0mmissing\u001b[0m\u001b[0;34m:\u001b[0m \u001b[0mCompetition\u001b[0m \u001b[0mdatasource\u001b[0m\u001b[0;34m,\u001b[0m \u001b[0mAPI\u001b[0m\u001b[0;34m-\u001b[0m\u001b[0mbased\u001b[0m \u001b[0mmodels\u001b[0m\u001b[0;34m.\u001b[0m\u001b[0;34m\u001b[0m\u001b[0;34m\u001b[0m\u001b[0m\n\u001b[1;32m     28\u001b[0m         \"\"\"\n\u001b[0;32m---> 29\u001b[0;31m         \u001b[0mpath\u001b[0m\u001b[0;34m,\u001b[0m \u001b[0mversion\u001b[0m \u001b[0;34m=\u001b[0m \u001b[0mself\u001b[0m\u001b[0;34m.\u001b[0m\u001b[0m_resolve\u001b[0m\u001b[0;34m(\u001b[0m\u001b[0mhandle\u001b[0m\u001b[0;34m,\u001b[0m \u001b[0mpath\u001b[0m\u001b[0;34m,\u001b[0m \u001b[0mforce_download\u001b[0m\u001b[0;34m=\u001b[0m\u001b[0mforce_download\u001b[0m\u001b[0;34m)\u001b[0m\u001b[0;34m\u001b[0m\u001b[0;34m\u001b[0m\u001b[0m\n\u001b[0m\u001b[1;32m     30\u001b[0m \u001b[0;34m\u001b[0m\u001b[0m\n\u001b[1;32m     31\u001b[0m         \u001b[0;31m# Note handles are immutable, so _resolve() could not have altered our reference\u001b[0m\u001b[0;34m\u001b[0m\u001b[0;34m\u001b[0m\u001b[0m\n",
            "\u001b[0;32m/usr/local/lib/python3.12/dist-packages/kagglehub/http_resolver.py\u001b[0m in \u001b[0;36m_resolve\u001b[0;34m(self, h, path, force_download)\u001b[0m\n\u001b[1;32m    128\u001b[0m \u001b[0;34m\u001b[0m\u001b[0m\n\u001b[1;32m    129\u001b[0m             \u001b[0;31m# First, we download the archive.\u001b[0m\u001b[0;34m\u001b[0m\u001b[0;34m\u001b[0m\u001b[0m\n\u001b[0;32m--> 130\u001b[0;31m             \u001b[0mapi_client\u001b[0m\u001b[0;34m.\u001b[0m\u001b[0mdownload_file\u001b[0m\u001b[0;34m(\u001b[0m\u001b[0murl_path\u001b[0m\u001b[0;34m,\u001b[0m \u001b[0marchive_path\u001b[0m\u001b[0;34m,\u001b[0m \u001b[0mh\u001b[0m\u001b[0;34m)\u001b[0m\u001b[0;34m\u001b[0m\u001b[0;34m\u001b[0m\u001b[0m\n\u001b[0m\u001b[1;32m    131\u001b[0m \u001b[0;34m\u001b[0m\u001b[0m\n\u001b[1;32m    132\u001b[0m             \u001b[0m_extract_archive\u001b[0m\u001b[0;34m(\u001b[0m\u001b[0marchive_path\u001b[0m\u001b[0;34m,\u001b[0m \u001b[0mout_path\u001b[0m\u001b[0;34m)\u001b[0m\u001b[0;34m\u001b[0m\u001b[0;34m\u001b[0m\u001b[0m\n",
            "\u001b[0;32m/usr/local/lib/python3.12/dist-packages/kagglehub/clients.py\u001b[0m in \u001b[0;36mdownload_file\u001b[0;34m(self, path, out_file, resource_handle, cached_path, extract_auto_compressed_file)\u001b[0m\n\u001b[1;32m    215\u001b[0m             \u001b[0;32melse\u001b[0m\u001b[0;34m:\u001b[0m\u001b[0;34m\u001b[0m\u001b[0;34m\u001b[0m\u001b[0m\n\u001b[1;32m    216\u001b[0m                 \u001b[0mlogger\u001b[0m\u001b[0;34m.\u001b[0m\u001b[0minfo\u001b[0m\u001b[0;34m(\u001b[0m\u001b[0;34mf\"Downloading from {url}...\"\u001b[0m\u001b[0;34m)\u001b[0m\u001b[0;34m\u001b[0m\u001b[0;34m\u001b[0m\u001b[0m\n\u001b[0;32m--> 217\u001b[0;31m                 \u001b[0m_download_file\u001b[0m\u001b[0;34m(\u001b[0m\u001b[0mresponse\u001b[0m\u001b[0;34m,\u001b[0m \u001b[0mout_file\u001b[0m\u001b[0;34m,\u001b[0m \u001b[0msize_read\u001b[0m\u001b[0;34m,\u001b[0m \u001b[0mtotal_size\u001b[0m\u001b[0;34m,\u001b[0m \u001b[0mhash_object\u001b[0m\u001b[0;34m)\u001b[0m\u001b[0;34m\u001b[0m\u001b[0;34m\u001b[0m\u001b[0m\n\u001b[0m\u001b[1;32m    218\u001b[0m \u001b[0;34m\u001b[0m\u001b[0m\n\u001b[1;32m    219\u001b[0m             \u001b[0;32mif\u001b[0m \u001b[0mhash_object\u001b[0m\u001b[0;34m:\u001b[0m\u001b[0;34m\u001b[0m\u001b[0;34m\u001b[0m\u001b[0m\n",
            "\u001b[0;32m/usr/local/lib/python3.12/dist-packages/kagglehub/clients.py\u001b[0m in \u001b[0;36m_download_file\u001b[0;34m(response, out_file, size_read, total_size, hash_object)\u001b[0m\n\u001b[1;32m    277\u001b[0m                     \u001b[0mf\u001b[0m\u001b[0;34m.\u001b[0m\u001b[0mwrite\u001b[0m\u001b[0;34m(\u001b[0m\u001b[0mchunk\u001b[0m\u001b[0;34m)\u001b[0m\u001b[0;34m\u001b[0m\u001b[0;34m\u001b[0m\u001b[0m\n\u001b[1;32m    278\u001b[0m                     \u001b[0;32mif\u001b[0m \u001b[0mhash_object\u001b[0m\u001b[0;34m:\u001b[0m\u001b[0;34m\u001b[0m\u001b[0;34m\u001b[0m\u001b[0m\n\u001b[0;32m--> 279\u001b[0;31m                         \u001b[0mhash_object\u001b[0m\u001b[0;34m.\u001b[0m\u001b[0mupdate\u001b[0m\u001b[0;34m(\u001b[0m\u001b[0mchunk\u001b[0m\u001b[0;34m)\u001b[0m\u001b[0;34m\u001b[0m\u001b[0;34m\u001b[0m\u001b[0m\n\u001b[0m\u001b[1;32m    280\u001b[0m                     \u001b[0msize_read\u001b[0m \u001b[0;34m=\u001b[0m \u001b[0mmin\u001b[0m\u001b[0;34m(\u001b[0m\u001b[0mtotal_size\u001b[0m\u001b[0;34m,\u001b[0m \u001b[0msize_read\u001b[0m \u001b[0;34m+\u001b[0m \u001b[0mCHUNK_SIZE\u001b[0m\u001b[0;34m)\u001b[0m\u001b[0;34m\u001b[0m\u001b[0;34m\u001b[0m\u001b[0m\n\u001b[1;32m    281\u001b[0m                     \u001b[0mprogress_bar\u001b[0m\u001b[0;34m.\u001b[0m\u001b[0mupdate\u001b[0m\u001b[0;34m(\u001b[0m\u001b[0mlen\u001b[0m\u001b[0;34m(\u001b[0m\u001b[0mchunk\u001b[0m\u001b[0;34m)\u001b[0m\u001b[0;34m)\u001b[0m\u001b[0;34m\u001b[0m\u001b[0;34m\u001b[0m\u001b[0m\n",
            "\u001b[0;31mKeyboardInterrupt\u001b[0m: "
          ]
        }
      ]
    },
    {
      "cell_type": "code",
      "source": [
        "from qdrant_client import QdrantClient\n",
        "from qdrant_client.models import Distance, VectorParams\n",
        "from transformers import AutoTokenizer, AutoModel\n",
        "import pandas as pd, os, re\n",
        "from tqdm import tqdm\n",
        "import json\n",
        "import torch\n",
        "import pdfplumber\n",
        "# import fitz  # PyMuPDF\n",
        "\n",
        "# if using Qdrant Cloud: replace with your URL + API key\n",
        "qdrant = QdrantClient(\n",
        "    url=\"\",\n",
        "    api_key=\"\"\n",
        ")\n"
      ],
      "metadata": {
        "id": "EZcD2Fz06LZZ"
      },
      "execution_count": null,
      "outputs": []
    },
    {
      "cell_type": "markdown",
      "source": [
        "### Building the Legal Knowledge Base"
      ],
      "metadata": {
        "id": "oMNHC1PPOh91"
      }
    },
    {
      "cell_type": "code",
      "source": [
        "BASE_DIR = \"/root/.cache/kagglehub/datasets/adarshsingh0903/legal-dataset-sc-judgments-india-19502024/versions/1/supreme_court_judgments/2025\"\n",
        "\n",
        "# Qdrant collection name\n",
        "COLLECTION_NAME = \"indian_kanoon_2025\"\n",
        "\n",
        "# Model name (legal BERT)\n",
        "MODEL_NAME = \"law-ai/InLegalBERT\"\n",
        "\n",
        "# Chunking params\n",
        "MAX_TOKENS = 512\n",
        "STRIDE = 256  # 50% overlap\n",
        "\n",
        "# Batch size for Qdrant upserts\n",
        "UPSERT_BATCH = 64\n",
        "\n",
        "# device\n",
        "DEVICE = \"cuda\" if torch.cuda.is_available() else \"cpu\"\n",
        "print(\"Using device:\", DEVICE)"
      ],
      "metadata": {
        "colab": {
          "base_uri": "https://localhost:8080/"
        },
        "id": "4SCcR_F06r0m",
        "outputId": "0c05d0bb-3e74-4fd9-afd6-20ece984b97f"
      },
      "execution_count": null,
      "outputs": [
        {
          "output_type": "stream",
          "name": "stdout",
          "text": [
            "Using device: cpu\n"
          ]
        }
      ]
    },
    {
      "cell_type": "code",
      "source": [
        "print(\"Loading model:\", MODEL_NAME)\n",
        "tokenizer = AutoTokenizer.from_pretrained(MODEL_NAME)\n",
        "model = AutoModel.from_pretrained(MODEL_NAME).to(DEVICE)\n",
        "model.eval()\n",
        "\n",
        "# mean pooling helper\n",
        "def mean_pooling(model_output, attention_mask):\n",
        "    token_embeddings = model_output[0]   # (batch, seq_len, hidden)\n",
        "    mask_expanded = attention_mask.unsqueeze(-1).expand(token_embeddings.size()).float()\n",
        "    sum_embeddings = torch.sum(token_embeddings * mask_expanded, dim=1)\n",
        "    sum_mask = torch.clamp(mask_expanded.sum(dim=1), min=1e-9)\n",
        "    return sum_embeddings / sum_mask\n"
      ],
      "metadata": {
        "colab": {
          "base_uri": "https://localhost:8080/",
          "height": 192,
          "referenced_widgets": [
            "dece47ac4205470ba1aec5a2991cd90a",
            "1f24e0d95c3c4b808a50b0600e1e2ada",
            "38bb493bc0714d4981754960908fbc1f",
            "d434dfe1fc824398b4a6547a42acb942",
            "cbc9c8fbf92f49dfbfef7e7296e27e4a",
            "6b0e55cd00ea4de2ba7e1ff4825ea194",
            "1f461c7d91d74f9dbee548fd096b0981",
            "86244b710d8042438fdd0cd7bb447dd0",
            "98e16b987d86433ca667597d7796d5c7",
            "3f87d63e78e84bb9ab6c381cd2f88ae0",
            "d6083fef31ed4c499ec0d1c1498e74fd",
            "6237bf9f5a0942e4bfd7ef7e00c39150",
            "026f6f88b3db467aa7e36f3f68893bea",
            "5d249426b6b246aaa7213c02808794a7",
            "06dc3767be694f219c42bf845ef856ff",
            "bbbf575dd61f4f78a7bea0dc6450ae7f",
            "7a94b9b3986145f3a1f32e501701e2d3",
            "783e8b548f274f6493ca2b31cd727d9e",
            "1a6f0e3b836b49b1b41ebe5cd2c14841",
            "cfacc2e2e9504f3fbd431310a30955e7",
            "76e8034a611c4501a96f1d3b1445eaad",
            "39b29012263b45d58004801014d183d6",
            "7217162f098e47479b17f6f7c7a5274c",
            "40856bcee31343eda47adc0a74360574",
            "a59c45897bb943299301c9bf075a3229",
            "3af4263b243641a2a5278fd818ca28bf",
            "20357c06c35d4b76b3dc2a643bf3ba86",
            "4b998efb62044c7ba44f490542e1df22",
            "6589b2d23fbd453ebdad4601371af11e",
            "b23e2db292da4309a389f66dcb4e3fe3",
            "647f4a3b477c4c0da1a29da0c118f51b",
            "51deb40d577144e4a60d70bc85e5d58b",
            "47fea4ff8c0c406393588fd8718d19fa",
            "bc2e5b10928f4430b05263b69867dd83",
            "8a06803ada1d4375a202543a0876fdfd",
            "b06c13dd51b846e4b126cd6449500a5d",
            "1afa9844ab59479c9700a3175e3e96a0",
            "3370234ac0734ff5b0de1c588c596133",
            "21a843b5dc5d4505a6dbe3dee72d0f37",
            "d508b39fc111459399a1ac55247c2e44",
            "827f6aefdbb048eea8e8457281d14e4f",
            "4270143a0c814d8493de69136568041f",
            "5ca84a9e0ff94084b0736ab03f028072",
            "b619be06d9fe4f92ab610862ba7f21cd",
            "781e19f5c02b435b831026d988707181",
            "be9d679e942f49cd97e2d79bf0248d30",
            "a366c4b5a61940cb8f404571482b5df4",
            "397a7f573c1b4333951b88907e8611ca",
            "b953843cb6b244bc9b95f5143f681c79",
            "401c9a1426d24c189eed3c201623439d",
            "9d55648dff484207afe85eb3fad0b373",
            "2ce737bbe8b549c1b0ed01060eb16179",
            "5b206563b8334a078b63da6e4fa43aab",
            "bf1900e539434e519a0e59c8a7283e9f",
            "0fee694540d44b79ba1de36c756d94c8"
          ]
        },
        "id": "evnsIDk0IsZk",
        "outputId": "75a0e66d-b9a4-4c5d-f311-8d84fa502fe4"
      },
      "execution_count": null,
      "outputs": [
        {
          "output_type": "stream",
          "name": "stdout",
          "text": [
            "Loading model: law-ai/InLegalBERT\n"
          ]
        },
        {
          "output_type": "display_data",
          "data": {
            "text/plain": [
              "tokenizer_config.json:   0%|          | 0.00/516 [00:00<?, ?B/s]"
            ],
            "application/vnd.jupyter.widget-view+json": {
              "version_major": 2,
              "version_minor": 0,
              "model_id": "dece47ac4205470ba1aec5a2991cd90a"
            }
          },
          "metadata": {}
        },
        {
          "output_type": "display_data",
          "data": {
            "text/plain": [
              "vocab.txt: 0.00B [00:00, ?B/s]"
            ],
            "application/vnd.jupyter.widget-view+json": {
              "version_major": 2,
              "version_minor": 0,
              "model_id": "6237bf9f5a0942e4bfd7ef7e00c39150"
            }
          },
          "metadata": {}
        },
        {
          "output_type": "display_data",
          "data": {
            "text/plain": [
              "special_tokens_map.json:   0%|          | 0.00/112 [00:00<?, ?B/s]"
            ],
            "application/vnd.jupyter.widget-view+json": {
              "version_major": 2,
              "version_minor": 0,
              "model_id": "7217162f098e47479b17f6f7c7a5274c"
            }
          },
          "metadata": {}
        },
        {
          "output_type": "display_data",
          "data": {
            "text/plain": [
              "config.json:   0%|          | 0.00/671 [00:00<?, ?B/s]"
            ],
            "application/vnd.jupyter.widget-view+json": {
              "version_major": 2,
              "version_minor": 0,
              "model_id": "bc2e5b10928f4430b05263b69867dd83"
            }
          },
          "metadata": {}
        },
        {
          "output_type": "display_data",
          "data": {
            "text/plain": [
              "pytorch_model.bin:   0%|          | 0.00/534M [00:00<?, ?B/s]"
            ],
            "application/vnd.jupyter.widget-view+json": {
              "version_major": 2,
              "version_minor": 0,
              "model_id": "781e19f5c02b435b831026d988707181"
            }
          },
          "metadata": {}
        }
      ]
    },
    {
      "cell_type": "code",
      "source": [
        "# Ensure collection exists with correct vector size (BERT base -> 768)\n",
        "VECTOR_SIZE = model.config.hidden_size  # typically 768\n",
        "print(\"Vector size:\", VECTOR_SIZE)\n",
        "\n",
        "# Recreate collection for a fresh demo (CAUTION: destroys existing data in the same collection)\n",
        "qdrant.recreate_collection(\n",
        "    collection_name=COLLECTION_NAME,\n",
        "    vectors_config=VectorParams(size=VECTOR_SIZE, distance=Distance.COSINE)\n",
        ")\n",
        "print(\"Created Qdrant collection:\", COLLECTION_NAME)\n"
      ],
      "metadata": {
        "colab": {
          "base_uri": "https://localhost:8080/"
        },
        "id": "w0zzTKLB6gU4",
        "outputId": "2919b38c-b5d7-49ac-d70f-716c1ef7726b"
      },
      "execution_count": null,
      "outputs": [
        {
          "output_type": "stream",
          "name": "stdout",
          "text": [
            "Vector size: 768\n"
          ]
        },
        {
          "output_type": "stream",
          "name": "stderr",
          "text": [
            "/tmp/ipython-input-3295741246.py:6: DeprecationWarning: `recreate_collection` method is deprecated and will be removed in the future. Use `collection_exists` to check collection existence and `create_collection` instead.\n",
            "  qdrant.recreate_collection(\n"
          ]
        },
        {
          "output_type": "stream",
          "name": "stdout",
          "text": [
            "Created Qdrant collection: indian_kanoon_2025\n"
          ]
        }
      ]
    },
    {
      "cell_type": "code",
      "source": [
        "def extract_text_from_pdf(pdf_path):\n",
        "    try:\n",
        "        text = \"\"\n",
        "        with pdfplumber.open(pdf_path) as pdf:\n",
        "            for page in pdf.pages:\n",
        "                page_txt = page.extract_text()\n",
        "                if page_txt:\n",
        "                    text += page_txt + \"\\n\"\n",
        "        return text.strip()\n",
        "    except Exception as e:\n",
        "        print(f\"Error reading {pdf_path}: {e}\")\n",
        "        return \"\"\n",
        "\n",
        "def tokenize_ids(text):\n",
        "    # returns list of token ids (no special tokens)\n",
        "    return tokenizer.encode(text, add_special_tokens=False)\n",
        "\n",
        "def detokenize(token_ids):\n",
        "    return tokenizer.decode(token_ids, clean_up_tokenization_spaces=True)\n",
        "\n",
        "def chunk_tokens_to_texts(token_ids, max_len=MAX_TOKENS, stride=STRIDE):\n",
        "    chunks = []\n",
        "    n = len(token_ids)\n",
        "    if n == 0:\n",
        "        return []\n",
        "    for start in range(0, n, (max_len - stride)):\n",
        "        end = min(start + max_len, n)\n",
        "        chunk = token_ids[start:end]\n",
        "        chunks.append(detokenize(chunk))\n",
        "        if end == n:\n",
        "            break\n",
        "    return chunks\n",
        "\n",
        "def parse_case_metadata(pdf_path):\n",
        "    # derive year from parent folder and case name from filename\n",
        "    folder = os.path.basename(os.path.dirname(pdf_path))\n",
        "    try:\n",
        "        year = int(folder)\n",
        "    except:\n",
        "        year = None\n",
        "    fname = os.path.basename(pdf_path)\n",
        "    case_name = os.path.splitext(fname)[0].replace(\"_\", \" \")\n",
        "    return year, case_name\n"
      ],
      "metadata": {
        "id": "aVfGoKX66gLm"
      },
      "execution_count": null,
      "outputs": []
    },
    {
      "cell_type": "code",
      "source": [
        "def embed_text_chunk(text):\n",
        "    # tokenize + produce embedding for a text (<=512 tokens)\n",
        "    inputs = tokenizer(text, padding=True, truncation=True, max_length=MAX_TOKENS, return_tensors=\"pt\")\n",
        "    inputs = {k: v.to(DEVICE) for k, v in inputs.items()}\n",
        "    with torch.no_grad():\n",
        "        outputs = model(**inputs)\n",
        "        emb = mean_pooling(outputs, inputs[\"attention_mask\"])\n",
        "    # return 1D numpy array\n",
        "    return emb[0].cpu().numpy()\n"
      ],
      "metadata": {
        "id": "ye75NuKRI-YV"
      },
      "execution_count": null,
      "outputs": []
    },
    {
      "cell_type": "code",
      "source": [
        "from uuid import uuid4\n",
        "\n",
        "pdf_files = []\n",
        "for fname in os.listdir(BASE_DIR):\n",
        "    if fname.lower().endswith(\".pdf\"):\n",
        "        pdf_files.append(os.path.join(BASE_DIR, fname))\n",
        "\n",
        "print(\"Found PDFs in 2025 folder:\", len(pdf_files))\n",
        "\n",
        "points_buffer = []\n",
        "total_chunks = 0\n",
        "\n",
        "for pdf_path in tqdm(pdf_files[:10], desc=\"Processing 2025 PDFs\"):  # limit to 10 for testing\n",
        "    year, case_name = parse_case_metadata(pdf_path)\n",
        "    raw_text = extract_text_from_pdf(pdf_path)\n",
        "    if not raw_text or len(raw_text) < 50:\n",
        "        continue\n",
        "\n",
        "    # tokenize + chunk\n",
        "    token_ids = tokenize_ids(raw_text)\n",
        "    text_chunks = chunk_tokens_to_texts(token_ids, max_len=MAX_TOKENS, stride=STRIDE)\n",
        "\n",
        "    for idx, chunk_text in enumerate(text_chunks):\n",
        "        # ✅ generate valid UUID for each chunk\n",
        "        point_id = str(uuid4())\n",
        "\n",
        "        emb = embed_text_chunk(chunk_text)\n",
        "        payload = {\n",
        "            \"year\": year,\n",
        "            \"case_name\": case_name,\n",
        "            \"court\": \"Supreme Court of India\",\n",
        "            \"jurisdiction\": \"India\",\n",
        "            \"source_path\": pdf_path,\n",
        "            \"chunk_index\": idx,\n",
        "            \"file_name\": os.path.basename(pdf_path),\n",
        "            \"text_preview\": chunk_text[:1000]\n",
        "        }\n",
        "        point = PointStruct(id=point_id, vector=emb.tolist(), payload=payload)\n",
        "        points_buffer.append(point)\n",
        "        total_chunks += 1\n",
        "\n",
        "        # batch upsert\n",
        "        if len(points_buffer) >= UPSERT_BATCH:\n",
        "            qdrant.upsert(collection_name=COLLECTION_NAME, points=points_buffer)\n",
        "            points_buffer = []\n",
        "\n",
        "# final flush\n",
        "if points_buffer:\n",
        "    qdrant.upsert(collection_name=COLLECTION_NAME, points=points_buffer)\n",
        "\n",
        "print(f\"✅ Done. Upserted {total_chunks} chunks successfully.\")\n"
      ],
      "metadata": {
        "colab": {
          "base_uri": "https://localhost:8080/"
        },
        "id": "D_9GKLAn9Fom",
        "outputId": "942820d0-6c97-4550-9b96-7db80717ff21"
      },
      "execution_count": null,
      "outputs": [
        {
          "output_type": "stream",
          "name": "stdout",
          "text": [
            "Found PDFs in 2025 folder: 400\n"
          ]
        },
        {
          "output_type": "stream",
          "name": "stderr",
          "text": [
            "Processing 2025 PDFs: 100%|██████████| 10/10 [10:45<00:00, 64.52s/it]\n"
          ]
        },
        {
          "output_type": "stream",
          "name": "stdout",
          "text": [
            "✅ Done. Upserted 338 chunks successfully.\n"
          ]
        }
      ]
    },
    {
      "cell_type": "markdown",
      "source": [
        "### Implementing Semantic Search with Qdrant"
      ],
      "metadata": {
        "id": "ApTsRDJkOfEZ"
      }
    },
    {
      "cell_type": "code",
      "source": [
        "query = \"cases related to murder\"\n",
        "# Use the mean_pooling function to get the query embedding\n",
        "inputs = tokenizer(query, padding=True, truncation=True, max_length=MAX_TOKENS, return_tensors=\"pt\")\n",
        "inputs = {k: v.to(DEVICE) for k, v in inputs.items()}\n",
        "with torch.no_grad():\n",
        "    outputs = model(**inputs)\n",
        "    query_vec = mean_pooling(outputs, inputs[\"attention_mask\"])[0].cpu().numpy().tolist()\n",
        "\n",
        "\n",
        "hits = qdrant.search(\n",
        "    collection_name=COLLECTION_NAME,\n",
        "    query_vector=query_vec,\n",
        "    limit=5\n",
        ")\n",
        "\n",
        "for h in hits:\n",
        "    print(\"Score:\", h.score)\n",
        "    print(\"Case name:\", h.payload[\"case_name\"])\n",
        "    print(\"Snippet:\", h.payload[\"text_preview\"][:400], \"\\n---\\n\")"
      ],
      "metadata": {
        "colab": {
          "base_uri": "https://localhost:8080/"
        },
        "id": "hDOiVILQebwt",
        "outputId": "163aaa7f-2d35-472a-e91d-7671518c365f"
      },
      "execution_count": null,
      "outputs": [
        {
          "output_type": "stream",
          "name": "stderr",
          "text": [
            "/tmp/ipython-input-3741072256.py:10: DeprecationWarning: `search` method is deprecated and will be removed in the future. Use `query_points` instead.\n",
            "  hits = qdrant.search(\n"
          ]
        },
        {
          "output_type": "stream",
          "name": "stdout",
          "text": [
            "Score: 0.6233009\n",
            "Case name: Radhika Agarwal vs Union Of India on 27 February 2025 1\n",
            "Snippet: in adri dharan das vs. state of w. b. 4, ordinarily arrest is a part of the process of investigation intended to secure several purposes. the accused may have to be questioned in detail regarding various facets of motive, preparation, commission and aftermath of crime and the connection of other persons, if any, in the crime. there may be circumstances in which the accused may provide information  \n",
            "---\n",
            "\n",
            "Score: 0.6161155\n",
            "Case name: Ayyub vs State Of Uttar Pradesh on 7 February 2025 1\n",
            "Snippet: being present along with r - 2 vijay, whereas in the statements mrs. sunesh also claims to have been present. 8. it further transpires from the application for quash that based on the information given by the ward boy of the hospital on 02. 11. 2022, the same was registered at police station g. d. 37 at 01 : 14 pm and then panchayatnama of deceased tanu was conducted at the hospital in the presenc \n",
            "---\n",
            "\n",
            "Score: 0.6098115\n",
            "Case name: Ayyub vs State Of Uttar Pradesh on 7 February 2025 1\n",
            "Snippet: die [UNK]. according to the fir, so saying, they humiliated tanu and tortured her and said that they will file a case against her and also get her arrested and humiliate her in society so that she will not be able to face anyone in the society. 6. according to the complainant, scared of the insult and humiliation, his cousin sister tanu, between 10 : 30 am to 11 : 00 am committed suicide being hur \n",
            "---\n",
            "\n",
            "Score: 0.60850346\n",
            "Case name: Ayyub vs State Of Uttar Pradesh on 7 February 2025 1\n",
            "Snippet: ##nu distraught with what happened to her friend ziaul rahman? considering the under - currents and the disapproval of the relationship, was there any instigation for the suicide from any other quarter? did the deceased tanu resort to the extreme action of taking away her own life due to the ugly turn of the events and due to the fact that her family members were suspected to be involved? we have  \n",
            "---\n",
            "\n",
            "Score: 0.6073614\n",
            "Case name: Siba Nial Trilochan vs The State Of Odisha on 11 February 2025 1\n",
            "Snippet: version. in fact, the postmortem report ( exhibit 10 ) and the deposition of dr. jitendra kumar soren ( pw - 16 ) indicate that the external injury on the head could have been due to a rifle firearm bullet that was not fired from close range. however, as per the depositions of manoranjan behera ( pw - 5 ) and krutibash chhatria ( pw - 7 ), the bullets were fired from a close range after prabhulal  \n",
            "---\n",
            "\n"
          ]
        }
      ]
    },
    {
      "cell_type": "markdown",
      "source": [
        "#### Filtering using Qdrant PayLoad"
      ],
      "metadata": {
        "id": "Yklo-7n_qnb-"
      }
    },
    {
      "cell_type": "code",
      "metadata": {
        "colab": {
          "base_uri": "https://localhost:8080/"
        },
        "id": "fa2b5fb5",
        "outputId": "52f40c81-01c8-43ad-de27-5534239691c4"
      },
      "source": [
        "from qdrant_client.models import PayloadSchemaType\n",
        "\n",
        "qdrant.create_payload_index(\n",
        "    collection_name=COLLECTION_NAME,\n",
        "    field_name=\"jurisdiction\",\n",
        "    field_schema=PayloadSchemaType.KEYWORD,\n",
        ")\n",
        "\n",
        "qdrant.create_payload_index(\n",
        "    collection_name=COLLECTION_NAME,\n",
        "    field_name=\"year\",\n",
        "    field_schema=PayloadSchemaType.INTEGER,\n",
        ")\n",
        "\n",
        "qdrant.create_payload_index(\n",
        "    collection_name=COLLECTION_NAME,\n",
        "    field_name=\"case_name\",\n",
        "    field_schema=PayloadSchemaType.TEXT,  # use TEXT for substring/semantic match\n",
        ")\n"
      ],
      "execution_count": null,
      "outputs": [
        {
          "output_type": "execute_result",
          "data": {
            "text/plain": [
              "UpdateResult(operation_id=23, status=<UpdateStatus.COMPLETED: 'completed'>)"
            ]
          },
          "metadata": {},
          "execution_count": 40
        }
      ]
    },
    {
      "cell_type": "code",
      "source": [
        "from qdrant_client.models import Filter, FieldCondition, MatchValue, MatchText\n",
        "# Use these values to check filtering output\n",
        "# Ayyub vs State Of Uttar Pradesh on 7 February 2025 1\n",
        "# Radhika Agarwal vs Union Of India on 27 February 2025 1\n",
        "filter_condition = Filter(\n",
        "    must=[\n",
        "        FieldCondition(key=\"jurisdiction\", match=MatchValue(value=\"India\")),\n",
        "        FieldCondition(key=\"year\", match=MatchValue(value=2025)),\n",
        "        FieldCondition(key=\"case_name\", match=MatchText(text=\"Ayyub\"))\n",
        "    ]\n",
        ")"
      ],
      "metadata": {
        "id": "7mFLwda6oMiC"
      },
      "execution_count": null,
      "outputs": []
    },
    {
      "cell_type": "code",
      "source": [
        "inputs = tokenizer(query, padding=True, truncation=True, max_length=MAX_TOKENS, return_tensors=\"pt\").to(DEVICE)\n",
        "with torch.no_grad():\n",
        "    outputs = model(**inputs)\n",
        "    query_vec = mean_pooling(outputs, inputs[\"attention_mask\"])[0].cpu().numpy().tolist()\n",
        "\n",
        "hits = qdrant.query_points(\n",
        "    collection_name=COLLECTION_NAME,\n",
        "    query=query_vec,\n",
        "    limit=1,\n",
        "    query_filter=filter_condition,\n",
        "    with_payload=True\n",
        ")\n",
        "\n",
        "for h in hits.points:\n",
        "    print(f\"Score: {h.score:.4f}\")\n",
        "    print(h.payload[\"case_name\"])\n",
        "    print(h.payload[\"text_preview\"][:200])\n",
        "    print(\"---\")\n"
      ],
      "metadata": {
        "colab": {
          "base_uri": "https://localhost:8080/"
        },
        "id": "KC36jf4coj0l",
        "outputId": "153bdcb8-6a87-4902-a5f5-2ed2ce24d16d"
      },
      "execution_count": null,
      "outputs": [
        {
          "output_type": "stream",
          "name": "stdout",
          "text": [
            "Score: 0.6161\n",
            "Ayyub vs State Of Uttar Pradesh on 7 February 2025 1\n",
            "being present along with r - 2 vijay, whereas in the statements mrs. sunesh also claims to have been present. 8. it further transpires from the application for quash that based on the information give\n",
            "---\n"
          ]
        }
      ]
    },
    {
      "cell_type": "code",
      "source": [
        "# TODO - Hybrid Search"
      ],
      "metadata": {
        "id": "HVnuyfQ6sIrR"
      },
      "execution_count": null,
      "outputs": []
    },
    {
      "cell_type": "markdown",
      "source": [
        "### Legal Reasoning with LLM Integration"
      ],
      "metadata": {
        "id": "mnwJlaiJuFZH"
      }
    },
    {
      "cell_type": "code",
      "source": [
        "!pip install -q groq"
      ],
      "metadata": {
        "colab": {
          "base_uri": "https://localhost:8080/"
        },
        "id": "ceQmzV7huEmr",
        "outputId": "4d4e8d0a-0c44-47db-f54a-04243cb780f4"
      },
      "execution_count": null,
      "outputs": [
        {
          "output_type": "stream",
          "name": "stdout",
          "text": [
            "\u001b[?25l   \u001b[90m━━━━━━━━━━━━━━━━━━━━━━━━━━━━━━━━━━━━━━━━\u001b[0m \u001b[32m0.0/135.8 kB\u001b[0m \u001b[31m?\u001b[0m eta \u001b[36m-:--:--\u001b[0m\r\u001b[2K   \u001b[90m━━━━━━━━━━━━━━━━━━━━━━━━━━━━━━━━━━━━━━━━\u001b[0m \u001b[32m135.8/135.8 kB\u001b[0m \u001b[31m4.5 MB/s\u001b[0m eta \u001b[36m0:00:00\u001b[0m\n",
            "\u001b[?25h"
          ]
        }
      ]
    },
    {
      "cell_type": "code",
      "source": [
        "from groq import Groq\n",
        "import textwrap"
      ],
      "metadata": {
        "id": "51UJKVhiu4vx"
      },
      "execution_count": null,
      "outputs": []
    },
    {
      "cell_type": "code",
      "source": [
        "GROQ_API_KEY = os.environ.get(\"GROQ_API_KEY\", \"\")\n",
        "GROQ_MODEL = \"llama-3.3-70b-versatile\"\n",
        "\n",
        "groq = Groq(api_key=GROQ_API_KEY)"
      ],
      "metadata": {
        "id": "DDlb4KWyvMnf"
      },
      "execution_count": null,
      "outputs": []
    },
    {
      "cell_type": "code",
      "source": [
        "# ---------- Helper: retrieve top-k from Qdrant ----------\n",
        "def retrieve_top_k(query_vector, k=8, filter_condition=None, with_payload=True):\n",
        "    \"\"\"\n",
        "    Uses Qdrant query_points (dense-only). Assumes collection stores 'dense' vectors as default.\n",
        "    query_vector: list[float] (embedding)\n",
        "    filter_condition: qdrant_client.models.Filter or None\n",
        "    \"\"\"\n",
        "    resp = qdrant.query_points(\n",
        "        collection_name=COLLECTION_NAME,\n",
        "        query=query_vector,\n",
        "        limit=k,\n",
        "        query_filter=filter_condition,\n",
        "        with_payload=with_payload\n",
        "    )\n",
        "    # resp.points is a list of point objects\n",
        "    return resp.points"
      ],
      "metadata": {
        "id": "Fy8P1e35vXOD"
      },
      "execution_count": null,
      "outputs": []
    },
    {
      "cell_type": "code",
      "source": [
        "# ---------- Helper: assemble context (token budget aware approximation) ----------\n",
        "def build_rag_context(points, char_limit=6000):\n",
        "    \"\"\"\n",
        "    Concatenate retrieved chunks into a numbered context block.\n",
        "    Respect char_limit (approx safe to avoid huge prompts). Use text_preview payload.\n",
        "    Returns context string and list of source metadata tuples.\n",
        "    \"\"\"\n",
        "    parts = []\n",
        "    sources = []\n",
        "    chars = 0\n",
        "    for i, p in enumerate(points):\n",
        "        payload = p.payload or {}\n",
        "        preview = payload.get(\"text_preview\") or payload.get(\"chunk_text\") or \"\"\n",
        "        # short label\n",
        "        case_name = payload.get(\"case_name\", payload.get(\"file_name\", \"unknown\"))\n",
        "        year = payload.get(\"year\", \"\")\n",
        "        src = f\"{case_name} ({year})\"\n",
        "        snippet = preview.strip()\n",
        "        entry = f\"[{i+1}] {src}\\n{snippet}\\n\"\n",
        "        if chars + len(entry) > char_limit:\n",
        "            break\n",
        "        parts.append(entry)\n",
        "        sources.append({\"index\": i+1, \"case_name\": case_name, \"year\": year, \"source_path\": payload.get(\"source_path\")})\n",
        "        chars += len(entry)\n",
        "    context = \"\\n\".join(parts)\n",
        "    return context, sources"
      ],
      "metadata": {
        "id": "xqB7o6UEvabs"
      },
      "execution_count": null,
      "outputs": []
    },
    {
      "cell_type": "code",
      "source": [
        "# ---------- Prompt template ----------\n",
        "PROMPT_TEMPLATE = textwrap.dedent(\"\"\"\n",
        "You are an expert legal research assistant. Using ONLY the CONTEXT below, draft a 3-paragraph summary that answers the USER QUESTION.\n",
        "- Each paragraph should be short (3-5 sentences).\n",
        "- Include relevant case names (with the [n] citation referencing the CONTEXT item) next to the sentences they support.\n",
        "- Use plain English and explain the legal reasoning and relevant holdings.\n",
        "- If the context is insufficient, explicitly say you could not find enough authoritative context and suggest filters or search terms.\n",
        "\n",
        "CONTEXT:\n",
        "{context_block}\n",
        "\n",
        "USER QUESTION:\n",
        "{user_question}\n",
        "\n",
        "INSTRUCTIONS:\n",
        "1) Provide a clear 3-paragraph answer with citations (e.g., \\\"... this suggests proportionality is required (see [2])\\\").\n",
        "2) Then give a short \\\"Sources\\\" list that maps [n] to the case name and source path.\n",
        "\"\"\").strip()"
      ],
      "metadata": {
        "id": "Os6W-fdIvf5c"
      },
      "execution_count": null,
      "outputs": []
    },
    {
      "cell_type": "code",
      "source": [
        "# ---------- Main RAG function ----------\n",
        "def rag_answer(user_question, query_vector, qdrant_filter=None, top_k=12, char_limit=6000, groq_model=GROQ_MODEL):\n",
        "    # 1) Retrieve\n",
        "    points = retrieve_top_k(query_vector=query_vector, k=top_k, filter_condition=qdrant_filter, with_payload=True)\n",
        "    if not points:\n",
        "        return {\"error\": \"No retrieval results from Qdrant for the given query/filter.\"}\n",
        "    # 2) Build context (truncate to char_limit)\n",
        "    context_block, sources = build_rag_context(points, char_limit=char_limit)\n",
        "    if not context_block.strip():\n",
        "        return {\"error\": \"Retrieved docs are too large after truncation or empty previews.\"}\n",
        "    # 3) Format prompt\n",
        "    prompt = PROMPT_TEMPLATE.format(context_block=context_block, user_question=user_question)\n",
        "    system_message = {\"role\": \"system\", \"content\": \"You are a helpful and cautious legal research assistant. Cite sources exactly as requested.\"}\n",
        "    user_message = {\"role\": \"user\", \"content\": prompt}\n",
        "    messages = [system_message, user_message]\n",
        "    # 4) Call Groq Chat Completions\n",
        "    # Use conservative temperature; set max tokens reasonably.\n",
        "    chat_completion = groq.chat.completions.create(\n",
        "        messages=messages,\n",
        "        model=groq_model,\n",
        "        temperature=0.0,\n",
        "        max_completion_tokens=800\n",
        "    )\n",
        "    # 5) Extract result\n",
        "    llm_text = chat_completion.choices[0].message.content\n",
        "    # 6) Return structured object\n",
        "    return {\n",
        "        \"answer\": llm_text,\n",
        "        \"sources\": sources,\n",
        "        \"raw_groq_response\": chat_completion\n",
        "    }"
      ],
      "metadata": {
        "id": "NspOA5levv0U"
      },
      "execution_count": null,
      "outputs": []
    },
    {
      "cell_type": "code",
      "source": [
        "query = \"Summarize Supreme Court judgments on Ayyub vs State of UP\"\n",
        "inputs = tokenizer(query, padding=True, truncation=True, max_length=MAX_TOKENS, return_tensors=\"pt\").to(DEVICE)\n",
        "with torch.no_grad():\n",
        "    outputs = model(**inputs)\n",
        "    query_vec = mean_pooling(outputs, inputs[\"attention_mask\"])[0].cpu().numpy().tolist()"
      ],
      "metadata": {
        "id": "fj2VcznizwgG"
      },
      "execution_count": null,
      "outputs": []
    },
    {
      "cell_type": "code",
      "source": [
        "res = rag_answer(\"Summarize Supreme Court judgments on Ayyub vs State of UP\", query_vector=query_vec, qdrant_filter=filter_condition)\n",
        "print(res[\"answer\"])"
      ],
      "metadata": {
        "colab": {
          "base_uri": "https://localhost:8080/"
        },
        "id": "g9YzCAKyzXDM",
        "outputId": "65dc2974-b935-462b-e97e-6d2750c51164"
      },
      "execution_count": null,
      "outputs": [
        {
          "output_type": "stream",
          "name": "stdout",
          "text": [
            "The Supreme Court of India has recently ruled on the case of Ayyub vs State of Uttar Pradesh, which involves the applicability of Section 306 of the Indian Penal Code (IPC) to the accused [1]. The Court has reiterated the principles that in cases of abetment of suicide, there must be proof of direct or indirect acts of incitement to commit suicide, as seen in cases such as Amalendu Pal alias Jhantu vs. State of West Bengal, (2010) 1 SCC 707, and M. Mohan vs. State, (2011) 3 SCC 626 [2]. This suggests that the Court requires specific evidence of abetment to establish the offence under Section 306 IPC.\n",
            "\n",
            "The Court has also emphasized that the intention of the accused to aid or instigate the deceased to commit suicide is a crucial element in attracting Section 306 IPC, as held in Madan Mohan vs. State of M.P. and another, (1995 Supp (3) SCC 438) [3]. In the present case, the Court found that the utterance attributed to the appellants, even if assumed to be true, cannot be said to be of such a nature as to leave the deceased with no alternative but to end her life. The surrounding circumstances, particularly the lack of any direct or indirect acts of incitement, do not support the charge under Section 306 IPC [2].\n",
            "\n",
            "The judgment in Ayyub vs State of Uttar Pradesh highlights the importance of careful consideration of the evidence and the application of the legal principles in cases involving abetment of suicide [1]. The Court's decision to quash the proceedings against the appellants under Section 306 IPC is based on the lack of sufficient evidence to establish the requisite mens rea and the specific abetment required under the law [2]. This judgment reinforces the need for a nuanced approach to the application of Section 306 IPC, taking into account the specific facts and circumstances of each case.\n",
            "\n",
            "Sources:\n",
            "[1] Ayyub vs State Of Uttar Pradesh on 7 February 2025 1 (2025)\n",
            "[2] Ayyub vs State Of Uttar Pradesh on 7 February 2025 1 (2025)\n",
            "[3] Madan Mohan vs. State of M.P. and another, (1995 Supp (3) SCC 438)\n",
            "[4] Ayyub vs State Of Uttar Pradesh on 7 February 2025 1 (2025)\n",
            "[5] Ayyub vs State Of Uttar Pradesh on 7 February 2025 1 (2025)\n"
          ]
        }
      ]
    }
  ]
}